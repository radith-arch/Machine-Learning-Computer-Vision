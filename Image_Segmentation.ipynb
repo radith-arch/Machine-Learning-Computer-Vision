{
  "nbformat": 4,
  "nbformat_minor": 0,
  "metadata": {
    "colab": {
      "name": "Image Segmentation.ipynb",
      "provenance": [],
      "collapsed_sections": [
        "XCW8uKbB6bU6",
        "ipzRBaKz9fdq",
        "Q3z4zpS69g05",
        "hUQWGzre9hgf",
        "fNgrUUwrJUpv",
        "V7Zk2CKDJ3tu",
        "Php4rdlbK7gL"
      ]
    },
    "kernelspec": {
      "name": "python3",
      "display_name": "Python 3"
    }
  },
  "cells": [
    {
      "cell_type": "code",
      "metadata": {
        "id": "EnUbnau8Bnzu"
      },
      "source": [
        "import cv2 as cv\n",
        "from google.colab.patches import cv2_imshow\n",
        "import matplotlib.pyplot as plt\n",
        "import numpy as np\n",
        "import pandas as pd"
      ],
      "execution_count": null,
      "outputs": []
    },
    {
      "cell_type": "markdown",
      "metadata": {
        "id": "IzoFD79k57dv"
      },
      "source": [
        "# 1-min.png"
      ]
    },
    {
      "cell_type": "code",
      "metadata": {
        "id": "xwqWd4YrCEWQ"
      },
      "source": [
        "image = cv.imread('/content/drive/My Drive/Images/1-min.png')\n",
        "\n",
        "image_orig = image.copy()\n",
        "\n",
        "cv2_imshow(image)"
      ],
      "execution_count": null,
      "outputs": []
    },
    {
      "cell_type": "code",
      "metadata": {
        "id": "V05leBYkCMH1"
      },
      "source": [
        "image = cv.cvtColor(image, cv.COLOR_BGR2GRAY)\n",
        "\n",
        "cv2_imshow(image)"
      ],
      "execution_count": null,
      "outputs": []
    },
    {
      "cell_type": "code",
      "metadata": {
        "id": "J-gS0QIDCeBJ"
      },
      "source": [
        "plt.hist(image.flatten(), 256, [0,256])\n",
        "plt.show()"
      ],
      "execution_count": null,
      "outputs": []
    },
    {
      "cell_type": "code",
      "metadata": {
        "id": "h67gf6j0CpUR"
      },
      "source": [
        "thresholding_value, thresholding_result = cv.threshold(image, 137, 255, cv.THRESH_BINARY)\n",
        "\n",
        "print(thresholding_value)\n",
        "\n",
        "cv2_imshow(thresholding_result)"
      ],
      "execution_count": null,
      "outputs": []
    },
    {
      "cell_type": "code",
      "metadata": {
        "id": "sTnGaNInDPSw"
      },
      "source": [
        "# thresholding_result = cv.adaptiveThreshold(image, 255, cv.ADAPTIVE_THRESH_GAUSSIAN_C, cv.THRESH_BINARY, 11, 2)\n",
        "\n",
        "# cv2_imshow(thresholding_result)"
      ],
      "execution_count": null,
      "outputs": []
    },
    {
      "cell_type": "code",
      "metadata": {
        "id": "_T2kp0jsDZXN"
      },
      "source": [
        "# thresholding_value, thresholding_result = cv.threshold(image, 0, 255, cv.THRESH_BINARY+cv.THRESH_OTSU)\n",
        "\n",
        "# print(thresholding_value)\n",
        "\n",
        "# cv2_imshow(thresholding_result)"
      ],
      "execution_count": null,
      "outputs": []
    },
    {
      "cell_type": "markdown",
      "metadata": {
        "id": "mvXKLzlXFXN9"
      },
      "source": [
        "## Extracting Objects from Contours"
      ]
    },
    {
      "cell_type": "code",
      "metadata": {
        "id": "ospTxv3vEZO-"
      },
      "source": [
        "thresholding_result = cv.bitwise_not(thresholding_result)\n",
        "\n",
        "contours, hierarchy = cv.findContours(thresholding_result, cv.RETR_EXTERNAL, cv.CHAIN_APPROX_SIMPLE)\n",
        "\n",
        "print(contours)"
      ],
      "execution_count": null,
      "outputs": []
    },
    {
      "cell_type": "code",
      "metadata": {
        "id": "4VhOi4O0FDsD"
      },
      "source": [
        "len(contours)"
      ],
      "execution_count": null,
      "outputs": []
    },
    {
      "cell_type": "code",
      "metadata": {
        "id": "PP4oUpKVFL1l"
      },
      "source": [
        "contours[0]"
      ],
      "execution_count": null,
      "outputs": []
    },
    {
      "cell_type": "markdown",
      "metadata": {
        "id": "QY99PUVTFbed"
      },
      "source": [
        "## Feature Extraction of Contours"
      ]
    },
    {
      "cell_type": "code",
      "metadata": {
        "id": "g34AYFiLFeGz"
      },
      "source": [
        "area = cv.contourArea(contours[0])\n",
        "\n",
        "area"
      ],
      "execution_count": null,
      "outputs": []
    },
    {
      "cell_type": "code",
      "metadata": {
        "id": "oxn6OiUsFPNS"
      },
      "source": [
        "x, y, w, h = cv.boundingRect(contours[0])\n",
        "\n",
        "print(x, y, w, h)"
      ],
      "execution_count": null,
      "outputs": []
    },
    {
      "cell_type": "code",
      "metadata": {
        "id": "HPUxH7BFF6nW"
      },
      "source": [
        "for index, contour in enumerate(contours):\n",
        "  x, y, w, h = cv.boundingRect(contour)\n",
        "  area = cv.contourArea(contour)\n",
        "\n",
        "  print(\"Contour #\" + str(index), x, y, w, h, area)"
      ],
      "execution_count": null,
      "outputs": []
    },
    {
      "cell_type": "code",
      "metadata": {
        "id": "uq3WEO03GeOO"
      },
      "source": [
        "x, y, w, h = cv.boundingRect(contours[1876])\n",
        "\n",
        "figure = image[y:y+h, x:x+w]\n",
        "\n",
        "cv2_imshow(figure)"
      ],
      "execution_count": null,
      "outputs": []
    },
    {
      "cell_type": "code",
      "metadata": {
        "id": "iqw3D_1bL2sV"
      },
      "source": [
        "figure.shape # Menunjukan ukuran dari gambar\n",
        "\n",
        "height, width = figure.shape[:2]\n",
        "\n",
        "# print(\"Height\", height, \"Width\", width)\n",
        "\n",
        "cv.rectangle(image_orig, (x,y), (x+w,y+h), (255, 128, 0), 2)\n",
        "\n",
        "font = cv.FONT_HERSHEY_SIMPLEX\n",
        "\n",
        "cv.putText(image_orig, \"Height \" + str(height) + \" Width \" + str(width), (310, 150), font, 1, (0,0,0))\n",
        "\n",
        "cv2_imshow(image_orig)"
      ],
      "execution_count": null,
      "outputs": []
    },
    {
      "cell_type": "markdown",
      "metadata": {
        "id": "XCW8uKbB6bU6"
      },
      "source": [
        "# 2-min.png"
      ]
    },
    {
      "cell_type": "code",
      "metadata": {
        "id": "HyoqClTU6bU7"
      },
      "source": [
        "image = cv.imread('/content/drive/My Drive/Images/2-min.png')\n",
        "\n",
        "image_orig = image.copy()\n",
        "\n",
        "cv2_imshow(image)"
      ],
      "execution_count": null,
      "outputs": []
    },
    {
      "cell_type": "code",
      "metadata": {
        "id": "sB7hcTnc6bVB"
      },
      "source": [
        "image = cv.cvtColor(image, cv.COLOR_BGR2GRAY)\n",
        "\n",
        "cv2_imshow(image)"
      ],
      "execution_count": null,
      "outputs": []
    },
    {
      "cell_type": "code",
      "metadata": {
        "id": "iSlmLtSl6bVG"
      },
      "source": [
        "plt.hist(image.flatten(), 256, [0,256])\n",
        "plt.show()"
      ],
      "execution_count": null,
      "outputs": []
    },
    {
      "cell_type": "code",
      "metadata": {
        "id": "EtRmgofc6bVK"
      },
      "source": [
        "# thresholding_value, thresholding_result = cv.threshold(image, 137, 255, cv.THRESH_BINARY)\n",
        "\n",
        "# print(thresholding_value)\n",
        "\n",
        "# cv2_imshow(thresholding_result)"
      ],
      "execution_count": null,
      "outputs": []
    },
    {
      "cell_type": "code",
      "metadata": {
        "id": "WBgAwHo36bVP"
      },
      "source": [
        "# thresholding_result = cv.adaptiveThreshold(image, 255, cv.ADAPTIVE_THRESH_GAUSSIAN_C, cv.THRESH_BINARY, 11, 2)\n",
        "\n",
        "# cv2_imshow(thresholding_result)"
      ],
      "execution_count": null,
      "outputs": []
    },
    {
      "cell_type": "code",
      "metadata": {
        "id": "vx-tvc4W6bVW"
      },
      "source": [
        "thresholding_value, thresholding_result = cv.threshold(image, 0, 255, cv.THRESH_BINARY+cv.THRESH_OTSU)\n",
        "\n",
        "print(thresholding_value)\n",
        "\n",
        "cv2_imshow(thresholding_result)"
      ],
      "execution_count": null,
      "outputs": []
    },
    {
      "cell_type": "markdown",
      "metadata": {
        "id": "r1j_RAA46bVb"
      },
      "source": [
        "## Extracting Objects from Contours"
      ]
    },
    {
      "cell_type": "code",
      "metadata": {
        "id": "UhA0Z4vF6bVc"
      },
      "source": [
        "thresholding_result = cv.bitwise_not(thresholding_result)\n",
        "\n",
        "contours, hierarchy = cv.findContours(thresholding_result, cv.RETR_EXTERNAL, cv.CHAIN_APPROX_SIMPLE)\n",
        "\n",
        "print(contours)"
      ],
      "execution_count": null,
      "outputs": []
    },
    {
      "cell_type": "code",
      "metadata": {
        "id": "4Opl8ieG6bVg"
      },
      "source": [
        "len(contours)"
      ],
      "execution_count": null,
      "outputs": []
    },
    {
      "cell_type": "code",
      "metadata": {
        "id": "C1IsCq456bVo"
      },
      "source": [
        "contours[0]"
      ],
      "execution_count": null,
      "outputs": []
    },
    {
      "cell_type": "markdown",
      "metadata": {
        "id": "r0S5f4zg6bVt"
      },
      "source": [
        "## Feature Extraction of Contours"
      ]
    },
    {
      "cell_type": "code",
      "metadata": {
        "id": "VmOAdgYe6bVu"
      },
      "source": [
        "area = cv.contourArea(contours[0])\n",
        "\n",
        "area"
      ],
      "execution_count": null,
      "outputs": []
    },
    {
      "cell_type": "code",
      "metadata": {
        "id": "wFSO5dMd6bVz"
      },
      "source": [
        "x, y, w, h = cv.boundingRect(contours[0])\n",
        "\n",
        "print(x, y, w, h)"
      ],
      "execution_count": null,
      "outputs": []
    },
    {
      "cell_type": "code",
      "metadata": {
        "id": "jIoDGdVo6bV5"
      },
      "source": [
        "for index, contour in enumerate(contours):\n",
        "  x, y, w, h = cv.boundingRect(contour)\n",
        "  area = cv.contourArea(contour)\n",
        "\n",
        "  print(\"Contour #\" + str(index), x, y, w, h, area)"
      ],
      "execution_count": null,
      "outputs": []
    },
    {
      "cell_type": "code",
      "metadata": {
        "id": "f_gWzFMA6bV-"
      },
      "source": [
        "x, y, w, h = cv.boundingRect(contours[1984])\n",
        "\n",
        "figure = image[y:y+h, x:x+w]\n",
        "\n",
        "cv2_imshow(figure)"
      ],
      "execution_count": null,
      "outputs": []
    },
    {
      "cell_type": "code",
      "metadata": {
        "id": "qZBwgciN6bWD"
      },
      "source": [
        "figure.shape # Menunjukan ukuran dari gambar\n",
        "\n",
        "height, width = figure.shape[:2]\n",
        "\n",
        "# print(\"Height\", height, \"Width\", width)\n",
        "\n",
        "cv.rectangle(image_orig, (x,y), (x+w,y+h), (255, 128, 0), 2)\n",
        "\n",
        "font = cv.FONT_HERSHEY_SIMPLEX\n",
        "\n",
        "cv.putText(image_orig, \"Height \" + str(height) + \" Width \" + str(width), (310, 180), font, 1, (0,0,0))\n",
        "\n",
        "cv2_imshow(image_orig)"
      ],
      "execution_count": null,
      "outputs": []
    },
    {
      "cell_type": "markdown",
      "metadata": {
        "id": "ipzRBaKz9fdq"
      },
      "source": [
        "# 3-min.png"
      ]
    },
    {
      "cell_type": "code",
      "metadata": {
        "id": "n3wbs0Nm9fdt"
      },
      "source": [
        "image = cv.imread('/content/drive/My Drive/Images/3-min.png')\n",
        "\n",
        "image_orig = image.copy()\n",
        "\n",
        "cv2_imshow(image)"
      ],
      "execution_count": null,
      "outputs": []
    },
    {
      "cell_type": "code",
      "metadata": {
        "id": "teg2F48M9fd1"
      },
      "source": [
        "image = cv.cvtColor(image, cv.COLOR_BGR2GRAY)\n",
        "\n",
        "cv2_imshow(image)"
      ],
      "execution_count": null,
      "outputs": []
    },
    {
      "cell_type": "code",
      "metadata": {
        "id": "A6dU97O29fd8"
      },
      "source": [
        "plt.hist(image.flatten(), 256, [0,256])\n",
        "plt.show()"
      ],
      "execution_count": null,
      "outputs": []
    },
    {
      "cell_type": "code",
      "metadata": {
        "id": "9wtFTYvo9feB"
      },
      "source": [
        "thresholding_value, thresholding_result = cv.threshold(image, 140, 255, cv.THRESH_BINARY)\n",
        "\n",
        "print(thresholding_value)\n",
        "\n",
        "cv2_imshow(thresholding_result)"
      ],
      "execution_count": null,
      "outputs": []
    },
    {
      "cell_type": "code",
      "metadata": {
        "id": "Io0FKzsI9feG"
      },
      "source": [
        "# thresholding_result = cv.adaptiveThreshold(image, 255, cv.ADAPTIVE_THRESH_GAUSSIAN_C, cv.THRESH_BINARY, 11, 2)\n",
        "\n",
        "# cv2_imshow(thresholding_result)"
      ],
      "execution_count": null,
      "outputs": []
    },
    {
      "cell_type": "code",
      "metadata": {
        "id": "G1O6VKe69feK"
      },
      "source": [
        "# thresholding_value, thresholding_result = cv.threshold(image, 0, 255, cv.THRESH_BINARY+cv.THRESH_OTSU)\n",
        "\n",
        "# print(thresholding_value)\n",
        "\n",
        "# cv2_imshow(thresholding_result)"
      ],
      "execution_count": null,
      "outputs": []
    },
    {
      "cell_type": "markdown",
      "metadata": {
        "id": "J1rg4MfP9feP"
      },
      "source": [
        "## Extracting Objects from Contours"
      ]
    },
    {
      "cell_type": "code",
      "metadata": {
        "id": "1iCoEaqV9feQ"
      },
      "source": [
        "thresholding_result = cv.bitwise_not(thresholding_result)\n",
        "\n",
        "contours, hierarchy = cv.findContours(thresholding_result, cv.RETR_EXTERNAL, cv.CHAIN_APPROX_SIMPLE)\n",
        "\n",
        "print(contours)"
      ],
      "execution_count": null,
      "outputs": []
    },
    {
      "cell_type": "code",
      "metadata": {
        "id": "TaRn5lD_9feW"
      },
      "source": [
        "len(contours)"
      ],
      "execution_count": null,
      "outputs": []
    },
    {
      "cell_type": "code",
      "metadata": {
        "id": "P7wycVmb9fec"
      },
      "source": [
        "contours[0]"
      ],
      "execution_count": null,
      "outputs": []
    },
    {
      "cell_type": "markdown",
      "metadata": {
        "id": "g4yeHIz-9feg"
      },
      "source": [
        "## Feature Extraction of Contours"
      ]
    },
    {
      "cell_type": "code",
      "metadata": {
        "id": "IR5SDf8l9feh"
      },
      "source": [
        "area = cv.contourArea(contours[0])\n",
        "\n",
        "area"
      ],
      "execution_count": null,
      "outputs": []
    },
    {
      "cell_type": "code",
      "metadata": {
        "id": "bDUvKFJB9feo"
      },
      "source": [
        "x, y, w, h = cv.boundingRect(contours[0])\n",
        "\n",
        "print(x, y, w, h)"
      ],
      "execution_count": null,
      "outputs": []
    },
    {
      "cell_type": "code",
      "metadata": {
        "id": "8sBrTaG49fet"
      },
      "source": [
        "for index, contour in enumerate(contours):\n",
        "  x, y, w, h = cv.boundingRect(contour)\n",
        "  area = cv.contourArea(contour)\n",
        "\n",
        "  print(\"Contour #\" + str(index), x, y, w, h, area)"
      ],
      "execution_count": null,
      "outputs": []
    },
    {
      "cell_type": "code",
      "metadata": {
        "id": "SgPJ5kHs9fey"
      },
      "source": [
        "x, y, w, h = cv.boundingRect(contours[280])\n",
        "\n",
        "figure = image[y:y+h, x:x+w]\n",
        "\n",
        "cv2_imshow(figure)"
      ],
      "execution_count": null,
      "outputs": []
    },
    {
      "cell_type": "code",
      "metadata": {
        "id": "1AsbrzCB9fe8"
      },
      "source": [
        "figure.shape # Menunjukan ukuran dari gambar\n",
        "\n",
        "height, width = figure.shape[:2]\n",
        "\n",
        "# print(\"Height\", height, \"Width\", width)\n",
        "\n",
        "cv.rectangle(image_orig, (x,y), (x+w,y+h), (255, 128, 0), 2)\n",
        "\n",
        "font = cv.FONT_HERSHEY_SIMPLEX\n",
        "\n",
        "cv.putText(image_orig, \"Height \" + str(height) + \" Width \" + str(width), (270, 140), font, 1, (0,0,0))\n",
        "\n",
        "cv2_imshow(image_orig)"
      ],
      "execution_count": null,
      "outputs": []
    },
    {
      "cell_type": "markdown",
      "metadata": {
        "id": "Q3z4zpS69g05"
      },
      "source": [
        "# 4-min.png"
      ]
    },
    {
      "cell_type": "code",
      "metadata": {
        "id": "JuFsWowN9g06"
      },
      "source": [
        "image = cv.imread('/content/drive/My Drive/Images/4-min.png')\n",
        "\n",
        "image_orig = image.copy()\n",
        "\n",
        "cv2_imshow(image)"
      ],
      "execution_count": null,
      "outputs": []
    },
    {
      "cell_type": "code",
      "metadata": {
        "id": "8i8JidMq9g0_"
      },
      "source": [
        "image = cv.cvtColor(image, cv.COLOR_BGR2GRAY)\n",
        "\n",
        "cv2_imshow(image)"
      ],
      "execution_count": null,
      "outputs": []
    },
    {
      "cell_type": "code",
      "metadata": {
        "id": "J6BW6ESZ9g1D"
      },
      "source": [
        "plt.hist(image.flatten(), 256, [0,256])\n",
        "plt.show()"
      ],
      "execution_count": null,
      "outputs": []
    },
    {
      "cell_type": "code",
      "metadata": {
        "id": "PbMPTEig9g1G"
      },
      "source": [
        "thresholding_value, thresholding_result = cv.threshold(image, 135, 255, cv.THRESH_BINARY) \n",
        "\n",
        "print(thresholding_value)\n",
        "\n",
        "cv2_imshow(thresholding_result)"
      ],
      "execution_count": null,
      "outputs": []
    },
    {
      "cell_type": "code",
      "metadata": {
        "id": "bbNscHSf9g1K"
      },
      "source": [
        "# thresholding_result = cv.adaptiveThreshold(image, 255, cv.ADAPTIVE_THRESH_GAUSSIAN_C, cv.THRESH_BINARY, 11, 2)\n",
        "\n",
        "# cv2_imshow(thresholding_result)"
      ],
      "execution_count": null,
      "outputs": []
    },
    {
      "cell_type": "code",
      "metadata": {
        "id": "W7pvjxxW9g1O"
      },
      "source": [
        "# thresholding_value, thresholding_result = cv.threshold(image, 0, 255, cv.THRESH_BINARY+cv.THRESH_OTSU)\n",
        "\n",
        "# print(thresholding_value)\n",
        "\n",
        "# cv2_imshow(thresholding_result)"
      ],
      "execution_count": null,
      "outputs": []
    },
    {
      "cell_type": "markdown",
      "metadata": {
        "id": "J6zf7QqL9g1R"
      },
      "source": [
        "## Extracting Objects from Contours"
      ]
    },
    {
      "cell_type": "code",
      "metadata": {
        "id": "MQISbN6Q9g1S"
      },
      "source": [
        "thresholding_result = cv.bitwise_not(thresholding_result)\n",
        "\n",
        "contours, hierarchy = cv.findContours(thresholding_result, cv.RETR_EXTERNAL, cv.CHAIN_APPROX_SIMPLE)\n",
        "\n",
        "print(contours)"
      ],
      "execution_count": null,
      "outputs": []
    },
    {
      "cell_type": "code",
      "metadata": {
        "id": "6HAxheKu9g1X"
      },
      "source": [
        "len(contours)"
      ],
      "execution_count": null,
      "outputs": []
    },
    {
      "cell_type": "code",
      "metadata": {
        "id": "64YxObYc9g1b"
      },
      "source": [
        "contours[0]"
      ],
      "execution_count": null,
      "outputs": []
    },
    {
      "cell_type": "markdown",
      "metadata": {
        "id": "4ry_sN4U9g1f"
      },
      "source": [
        "## Feature Extraction of Contours"
      ]
    },
    {
      "cell_type": "code",
      "metadata": {
        "id": "Ay_XaZ4J9g1f"
      },
      "source": [
        "area = cv.contourArea(contours[0])\n",
        "\n",
        "area"
      ],
      "execution_count": null,
      "outputs": []
    },
    {
      "cell_type": "code",
      "metadata": {
        "id": "r_aRJoYU9g1j"
      },
      "source": [
        "x, y, w, h = cv.boundingRect(contours[0])\n",
        "\n",
        "print(x, y, w, h)"
      ],
      "execution_count": null,
      "outputs": []
    },
    {
      "cell_type": "code",
      "metadata": {
        "id": "QpZhPv5i9g1n"
      },
      "source": [
        "for index, contour in enumerate(contours):\n",
        "  x, y, w, h = cv.boundingRect(contour)\n",
        "  area = cv.contourArea(contour)\n",
        "\n",
        "  print(\"Contour #\" + str(index), x, y, w, h, area)"
      ],
      "execution_count": null,
      "outputs": []
    },
    {
      "cell_type": "code",
      "metadata": {
        "id": "y4LwNxAs9g1r"
      },
      "source": [
        "x, y, w, h = cv.boundingRect(contours[49])\n",
        "\n",
        "figure = image[y:y+h, x:x+w]\n",
        "\n",
        "cv2_imshow(figure)"
      ],
      "execution_count": null,
      "outputs": []
    },
    {
      "cell_type": "code",
      "metadata": {
        "id": "R7_KYido9g1y"
      },
      "source": [
        "figure.shape # Menunjukan ukuran dari gambar\n",
        "\n",
        "height, width = figure.shape[:2]\n",
        "\n",
        "# print(\"Height\", height, \"Width\", width)\n",
        "\n",
        "cv.rectangle(image_orig, (x,y), (x+w,y+h), (255, 128, 0), 2)\n",
        "\n",
        "font = cv.FONT_HERSHEY_SIMPLEX\n",
        "\n",
        "cv.putText(image_orig, \"Height \" + str(height) + \" Width \" + str(width), (250, 160), font, 1, (0,0,0))\n",
        "\n",
        "cv2_imshow(image_orig)"
      ],
      "execution_count": null,
      "outputs": []
    },
    {
      "cell_type": "markdown",
      "metadata": {
        "id": "hUQWGzre9hgf"
      },
      "source": [
        "# 5-min.png"
      ]
    },
    {
      "cell_type": "code",
      "metadata": {
        "id": "92K4l5UU9hgg"
      },
      "source": [
        "image = cv.imread('/content/drive/My Drive/Images/5-min.png')\n",
        "\n",
        "image_orig = image.copy()\n",
        "\n",
        "cv2_imshow(image)"
      ],
      "execution_count": null,
      "outputs": []
    },
    {
      "cell_type": "code",
      "metadata": {
        "id": "FCYviiOJ9hgj"
      },
      "source": [
        "# image = cv.cvtColor(image, cv.COLOR_BGR2GRAY)\n",
        "image = cv.cvtColor(image, cv.COLOR_BGR2HSV)[:,:,1]\n",
        "\n",
        "# cv2_imshow(image)"
      ],
      "execution_count": null,
      "outputs": []
    },
    {
      "cell_type": "code",
      "metadata": {
        "id": "9WmIwshS9hgm"
      },
      "source": [
        "plt.hist(image.flatten(), 256, [0,256])\n",
        "plt.show()"
      ],
      "execution_count": null,
      "outputs": []
    },
    {
      "cell_type": "code",
      "metadata": {
        "id": "3zu707ka9hgs"
      },
      "source": [
        "thresholding_value, thresholding_result = cv.threshold(image, 100, 255, cv.THRESH_BINARY)\n",
        "\n",
        "print(thresholding_value)\n",
        "\n",
        "# cv2_imshow(thresholding_result)"
      ],
      "execution_count": null,
      "outputs": []
    },
    {
      "cell_type": "markdown",
      "metadata": {
        "id": "SqtI6Ewx9hg5"
      },
      "source": [
        "## Extracting Objects from Contours"
      ]
    },
    {
      "cell_type": "code",
      "metadata": {
        "id": "pQs0d3Ey9hg6"
      },
      "source": [
        "thresholding_result = cv.bitwise_not(image_mask)\n",
        "\n",
        "contours, hierarchy = cv.findContours(thresholding_result, cv.RETR_EXTERNAL, cv.CHAIN_APPROX_SIMPLE)\n",
        "\n",
        "# print(contours)"
      ],
      "execution_count": null,
      "outputs": []
    },
    {
      "cell_type": "markdown",
      "metadata": {
        "id": "T8tJS8mI9hhH"
      },
      "source": [
        "## Feature Extraction of Contours"
      ]
    },
    {
      "cell_type": "code",
      "metadata": {
        "id": "umEcpvlZ9hhQ"
      },
      "source": [
        "for index, contour in enumerate(contours):\n",
        "  x, y, w, h = cv.boundingRect(contour)\n",
        "  area = cv.contourArea(contour)\n",
        "\n",
        "  print(\"Contour #\" + str(index), x, y, w, h, area)"
      ],
      "execution_count": null,
      "outputs": []
    },
    {
      "cell_type": "code",
      "metadata": {
        "id": "PB9TVZXg9hhT"
      },
      "source": [
        "x, y, w, h = cv.boundingRect(contours[0])\n",
        "\n",
        "figure = image[y:y+h, x:x+w]\n",
        "\n",
        "cv2_imshow(figure)"
      ],
      "execution_count": null,
      "outputs": []
    },
    {
      "cell_type": "code",
      "metadata": {
        "id": "vTTllOptFPtC"
      },
      "source": [
        "figure.shape # Menunjukan ukuran dari gambar\n",
        "\n",
        "height, width = figure.shape[:2]\n",
        "\n",
        "print(\"Height\", height, \"Width\", width)"
      ],
      "execution_count": null,
      "outputs": []
    },
    {
      "cell_type": "code",
      "metadata": {
        "id": "2PU1cBxd9hhW"
      },
      "source": [
        "image1.shape # Menunjukan ukuran dari gambar\n",
        "\n",
        "height1, width1 = image1.shape[:2]\n",
        "\n",
        "# print(\"Height\", height, \"Width\", width)\n",
        "# figure[20:-10, 40:]\n",
        "# image[y:y+h, x:x+w]\n",
        "cv.rectangle(image_orig, (x,y), (x+w,y+h), (255, 128, 0), 2)\n",
        "\n",
        "font = cv.FONT_HERSHEY_SIMPLEX\n",
        "\n",
        "cv.putText(image_orig, \"Height\" + str(height1) + \" Width\" + str(width1), (230, 220), font, 1, (0,0,0))\n",
        "\n",
        "cv2_imshow(image_orig)"
      ],
      "execution_count": null,
      "outputs": []
    },
    {
      "cell_type": "markdown",
      "metadata": {
        "id": "mXWDtxdl9nYf"
      },
      "source": [
        "# 6-min.png"
      ]
    },
    {
      "cell_type": "code",
      "metadata": {
        "id": "NMd8Y_zn9nYg"
      },
      "source": [
        "image = cv.imread('/content/drive/My Drive/Images/6-min.png')\n",
        "\n",
        "image_orig = image.copy()\n",
        "\n",
        "# cv2_imshow(image)"
      ],
      "execution_count": null,
      "outputs": []
    },
    {
      "cell_type": "code",
      "metadata": {
        "id": "46Hmg4hk9nYk"
      },
      "source": [
        "image = cv.cvtColor(image, cv.COLOR_BGR2GRAY)\n",
        "\n",
        "cv2_imshow(image)"
      ],
      "execution_count": null,
      "outputs": []
    },
    {
      "cell_type": "code",
      "metadata": {
        "id": "M7puyHQk9nYn"
      },
      "source": [
        "plt.hist(image.flatten(), 256, [0,256])\n",
        "plt.show()"
      ],
      "execution_count": null,
      "outputs": []
    },
    {
      "cell_type": "markdown",
      "metadata": {
        "id": "fNgrUUwrJUpv"
      },
      "source": [
        "## Captain America"
      ]
    },
    {
      "cell_type": "code",
      "metadata": {
        "id": "usliX3bt9nYv"
      },
      "source": [
        "thresholding_value, thresholding_result = cv.threshold(image, 0, 255, cv.THRESH_BINARY+cv.THRESH_OTSU)\n",
        "# thresholding_result = cv.adaptiveThreshold(image, 255, cv.ADAPTIVE_THRESH_GAUSSIAN_C, cv.THRESH_BINARY, 11, 2)\n",
        "# thresholding_value, thresholding_result = cv.threshold(image, 200, 255, cv.THRESH_BINARY)"
      ],
      "execution_count": null,
      "outputs": []
    },
    {
      "cell_type": "code",
      "metadata": {
        "id": "WgfaZ7N_9nY2"
      },
      "source": [
        "thresholding_result = cv.bitwise_not(thresholding_result)\n",
        "contours, hierarchy = cv.findContours(thresholding_result, cv.RETR_EXTERNAL, cv.CHAIN_APPROX_SIMPLE)\n",
        "# print(contours)"
      ],
      "execution_count": null,
      "outputs": []
    },
    {
      "cell_type": "code",
      "metadata": {
        "id": "nTO3LVyU9nZJ"
      },
      "source": [
        "data_area = []\n",
        "for index, contour in enumerate(contours):\n",
        "  x, y, w, h = cv.boundingRect(contour)\n",
        "  area = cv.contourArea(contour)\n",
        "  data_area.append([index, area, w, h])\n",
        "\n",
        "  # print(\"Contour #\" + str(index), x, y, w, h, area)"
      ],
      "execution_count": null,
      "outputs": []
    },
    {
      "cell_type": "code",
      "metadata": {
        "id": "nyLJFM0KGmSx"
      },
      "source": [
        "df_area = pd.DataFrame(data_area)\n",
        "df_area.columns = ['index', 'area', 'width', 'height']\n",
        "df_sort = df_area.sort_values(by=['area'],ascending=False)\n",
        "df_sort.head()"
      ],
      "execution_count": null,
      "outputs": []
    },
    {
      "cell_type": "code",
      "metadata": {
        "id": "4qq3sUka9nZP"
      },
      "source": [
        "x, y, w, h = cv.boundingRect(contours[3579])\n",
        "\n",
        "figure1 = image[y:y+h, x:x+w]\n",
        "\n",
        "cv2_imshow(figure1)"
      ],
      "execution_count": null,
      "outputs": []
    },
    {
      "cell_type": "markdown",
      "metadata": {
        "id": "V7Zk2CKDJ3tu"
      },
      "source": [
        "## Star Wars"
      ]
    },
    {
      "cell_type": "code",
      "metadata": {
        "id": "5seD50xAJ3ty"
      },
      "source": [
        "# thresholding_value, thresholding_result = cv.threshold(image, 0, 255, cv.THRESH_BINARY+cv.THRESH_OTSU)\n",
        "# thresholding_result = cv.adaptiveThreshold(image, 255, cv.ADAPTIVE_THRESH_GAUSSIAN_C, cv.THRESH_BINARY, 11, 2)\n",
        "thresholding_value, thresholding_result = cv.threshold(image, 170, 255, cv.THRESH_BINARY)"
      ],
      "execution_count": null,
      "outputs": []
    },
    {
      "cell_type": "code",
      "metadata": {
        "id": "hWYvljDxJ3t9"
      },
      "source": [
        "thresholding_result = cv.bitwise_not(thresholding_result)\n",
        "contours, hierarchy = cv.findContours(thresholding_result, cv.RETR_EXTERNAL, cv.CHAIN_APPROX_SIMPLE)\n",
        "# print(contours)"
      ],
      "execution_count": null,
      "outputs": []
    },
    {
      "cell_type": "code",
      "metadata": {
        "id": "Ywja0mUvJ3uB"
      },
      "source": [
        "data_area = []\n",
        "for index, contour in enumerate(contours):\n",
        "  x, y, w, h = cv.boundingRect(contour)\n",
        "  area = cv.contourArea(contour)\n",
        "  data_area.append([index, area, w, h])\n",
        "\n",
        "  # print(\"Contour #\" + str(index), x, y, w, h, area)"
      ],
      "execution_count": null,
      "outputs": []
    },
    {
      "cell_type": "code",
      "metadata": {
        "id": "va_FcoPMJ3uF"
      },
      "source": [
        "df_area = pd.DataFrame(data_area)\n",
        "df_area.columns = ['index', 'area', 'width', 'height']\n",
        "df_sort = df_area.sort_values(by=['area'],ascending=False)\n",
        "df_sort.head()"
      ],
      "execution_count": null,
      "outputs": []
    },
    {
      "cell_type": "code",
      "metadata": {
        "id": "qhMZVuO0J3uL"
      },
      "source": [
        "a, b, c, d = cv.boundingRect(contours[6001])\n",
        "# f, g, i, j = cv.boundingRect(contours[5649])\n",
        "# k, l, m, n = cv.boundingRect(contours[4733])\n",
        "\n",
        "figure2 = image[b:b+d, a:a+c]\n",
        "# figure3 = image[g:g+j, f:f+i]\n",
        "# figure4 = image[l:l+n, k:k+m]\n",
        "\n",
        "cv2_imshow(figure2)\n",
        "# cv2_imshow(figure3)\n",
        "# cv2_imshow(figure4)"
      ],
      "execution_count": null,
      "outputs": []
    },
    {
      "cell_type": "markdown",
      "metadata": {
        "id": "Php4rdlbK7gL"
      },
      "source": [
        "## Batman"
      ]
    },
    {
      "cell_type": "code",
      "metadata": {
        "id": "8rpFtdjKK7gQ"
      },
      "source": [
        "# thresholding_value, thresholding_result = cv.threshold(image, 0, 255, cv.THRESH_BINARY+cv.THRESH_OTSU)\n",
        "# thresholding_result = cv.adaptiveThreshold(image, 255, cv.ADAPTIVE_THRESH_GAUSSIAN_C, cv.THRESH_BINARY, 11, 2)\n",
        "thresholding_value, thresholding_result = cv.threshold(image, 135, 255, cv.THRESH_BINARY)"
      ],
      "execution_count": null,
      "outputs": []
    },
    {
      "cell_type": "code",
      "metadata": {
        "id": "vgzCEW_jK7gY"
      },
      "source": [
        "thresholding_result = cv.bitwise_not(thresholding_result)\n",
        "contours, hierarchy = cv.findContours(thresholding_result, cv.RETR_EXTERNAL, cv.CHAIN_APPROX_SIMPLE)\n",
        "# print(contours)"
      ],
      "execution_count": null,
      "outputs": []
    },
    {
      "cell_type": "code",
      "metadata": {
        "id": "DI0dxOq4K7gc"
      },
      "source": [
        "data_area = []\n",
        "for index, contour in enumerate(contours):\n",
        "  x, y, w, h = cv.boundingRect(contour)\n",
        "  area = cv.contourArea(contour)\n",
        "  data_area.append([index, area, w, h])\n",
        "\n",
        "  # print(\"Contour #\" + str(index), x, y, w, h, area)"
      ],
      "execution_count": null,
      "outputs": []
    },
    {
      "cell_type": "code",
      "metadata": {
        "id": "h_hIUutBK7gg"
      },
      "source": [
        "df_area = pd.DataFrame(data_area)\n",
        "df_area.columns = ['index', 'area', 'width', 'height']\n",
        "df_sort = df_area.sort_values(by=['area'],ascending=False)\n",
        "df_sort.head()"
      ],
      "execution_count": null,
      "outputs": []
    },
    {
      "cell_type": "code",
      "metadata": {
        "id": "9HekwbKbK7gl"
      },
      "source": [
        "f, g, i, j = cv.boundingRect(contours[3184])\n",
        "# k, l, m, n = cv.boundingRect(contours[4733])\n",
        "\n",
        "figure3 = image[g:g+j, f:f+i]\n",
        "# figure4 = image[l:l+n, k:k+m]\n",
        "\n",
        "cv2_imshow(figure3)\n",
        "# cv2_imshow(figure4)"
      ],
      "execution_count": null,
      "outputs": []
    },
    {
      "cell_type": "markdown",
      "metadata": {
        "id": "kp2IQZV1Lh7r"
      },
      "source": [
        "## Woody"
      ]
    },
    {
      "cell_type": "code",
      "metadata": {
        "id": "eCKJySJFL60l"
      },
      "source": [
        "image1 = cv.imread('/content/drive/My Drive/Images/6-min.png')\n",
        "image_sat = cv.cvtColor(image1, cv.COLOR_BGR2HSV)[:,:,1]\n",
        "# cv2_imshow(image_sat)"
      ],
      "execution_count": null,
      "outputs": []
    },
    {
      "cell_type": "code",
      "metadata": {
        "id": "imYBOHJiQQ8D"
      },
      "source": [
        "thresholding_value, thresholding_result = cv.threshold(image_sat, 0, 255, cv.THRESH_BINARY+cv.THRESH_OTSU)\n",
        "# cv2_imshow(thresholding_result)"
      ],
      "execution_count": null,
      "outputs": []
    },
    {
      "cell_type": "code",
      "metadata": {
        "id": "NW20NVdJMzS4"
      },
      "source": [
        "# Woody di masking\n",
        "kernel = cv.getStructuringElement(cv.MORPH_RECT, (9, 9))\n",
        "image_morph = cv.morphologyEx(thresholding_result, cv.MORPH_CLOSE, kernel, iterations=1)\n",
        "image_mask = cv.morphologyEx(image_morph, cv.MORPH_OPEN, kernel, iterations=1)\n",
        "# image_morph1 = cv.morphologyEx(image_mask, cv.MORPH_CLOSE, kernel, iterations=1)\n",
        "\n",
        "cv2_imshow(image_mask)"
      ],
      "execution_count": null,
      "outputs": []
    },
    {
      "cell_type": "code",
      "metadata": {
        "id": "XdWzS5csfevK"
      },
      "source": [
        "# thresholding_result = cv.bitwise_not(image_mask)\n",
        "# cv2_imshow(thresholding_result)"
      ],
      "execution_count": null,
      "outputs": []
    },
    {
      "cell_type": "code",
      "metadata": {
        "id": "03V-VdV6Lh73"
      },
      "source": [
        "# thresholding_result = cv.bitwise_not(thresholding_result)\n",
        "contours, hierarchy = cv.findContours(image_mask, cv.RETR_EXTERNAL, cv.CHAIN_APPROX_SIMPLE)\n",
        "# print(contours)"
      ],
      "execution_count": null,
      "outputs": []
    },
    {
      "cell_type": "code",
      "metadata": {
        "id": "T1bIvy_SLh77"
      },
      "source": [
        "data_area = []\n",
        "for index, contour in enumerate(contours):\n",
        "  x, y, w, h = cv.boundingRect(contour)\n",
        "  area = cv.contourArea(contour)\n",
        "  data_area.append([index, area, w, h])\n",
        "\n",
        "  # print(\"Contour #\" + str(index), x, y, w, h, area)"
      ],
      "execution_count": null,
      "outputs": []
    },
    {
      "cell_type": "code",
      "metadata": {
        "id": "WP9fQMkoLh7_"
      },
      "source": [
        "df_area = pd.DataFrame(data_area)\n",
        "df_area.columns = ['index', 'area', 'width', 'height']\n",
        "df_sort = df_area.sort_values(by=['area'],ascending=False)\n",
        "df_sort.head()"
      ],
      "execution_count": null,
      "outputs": []
    },
    {
      "cell_type": "code",
      "metadata": {
        "id": "vh70zrNCLh8E"
      },
      "source": [
        "k, l, m, n = cv.boundingRect(contours[28])\n",
        "\n",
        "figure4 = image[l:l+n, k:k+m]\n",
        "\n",
        "cv2_imshow(figure4)"
      ],
      "execution_count": null,
      "outputs": []
    },
    {
      "cell_type": "markdown",
      "metadata": {
        "id": "TusRaoySJ1Y4"
      },
      "source": [
        "## Bounding Box Keseluruhan"
      ]
    },
    {
      "cell_type": "code",
      "metadata": {
        "id": "oF5ST5biRrCm"
      },
      "source": [
        "image_orig.shape\n",
        "\n",
        "height, width = image_orig.shape[:2]\n",
        "print(\"Height\", height, \"Width\", width)"
      ],
      "execution_count": null,
      "outputs": []
    },
    {
      "cell_type": "code",
      "metadata": {
        "id": "FUha2Gzp9nZS"
      },
      "source": [
        "figure1.shape # Menunjukan ukuran dari gambar\n",
        "figure2.shape\n",
        "figure3.shape\n",
        "figure4.shape\n",
        "\n",
        "height1, width1 = figure1.shape[:2]\n",
        "height2, width2 = figure2.shape[:2]\n",
        "height3, width3 = figure3.shape[:2]\n",
        "height4, width4 = figure4.shape[:2]\n",
        "\n",
        "# print(\"Height\", height, \"Width\", width)\n",
        "\n",
        "cv.rectangle(image_orig, (x,y), (x+w,y+h), (255, 128, 0), 2)\n",
        "cv.rectangle(image_orig, (a,b), (a+c,b+d), (255, 128, 0), 2)\n",
        "cv.rectangle(image_orig, (f,g), (f+i,g+j), (255, 128, 0), 2)\n",
        "cv.rectangle(image_orig, (k,l), (k+m,l+n), (255, 128, 0), 2)\n",
        "\n",
        "font = cv.FONT_HERSHEY_SIMPLEX\n",
        "\n",
        "cv.putText(image_orig, \"Height \" + str(height1) + \" Width \" + str(width1), (1190, 50), font, 1, (0,0,0))\n",
        "cv.putText(image_orig, \"Height \" + str(height2) + \" Width \" + str(width2), (1500, 250), font, 1, (0,0,0))\n",
        "cv.putText(image_orig, \"Height \" + str(height3) + \" Width \" + str(width3), (310, 340), font, 1, (0,0,0))\n",
        "cv.putText(image_orig, \"Height \" + str(height4) + \" Width \" + str(width4), (800, 580), font, 1, (0,0,0))\n",
        "\n",
        "\n",
        "cv2_imshow(image_orig)"
      ],
      "execution_count": null,
      "outputs": []
    },
    {
      "cell_type": "markdown",
      "metadata": {
        "id": "QQqFZZffXBzZ"
      },
      "source": [
        "# Kesimpulan"
      ]
    },
    {
      "cell_type": "markdown",
      "metadata": {
        "id": "DqNeKn7TXObG"
      },
      "source": [
        "Metode image processing di awali dengan gambar di buat menjadi hitam putih dan kemudian di process menggunakan thresholding. Pada thresholding, gambar yang baik yaitu gambar yang dapat diekstrasi model dari backgroundnya. Pada proses di atas, lebih banyak digunakan global thresholding dikarenakan hasilnya lebih jelas dibandingkan adaptive dan ostu, dimana adaptive gambar terlihat jelas, namun backgroundnya masih ikut terlihat dan otsu hanya menggambil 1 nilai, nilainya sendiripun belum tentu langsung mendapatkan hasil terbaik. Maka global thresholdinglah yang lebih banyak digunakan, dimana nilai dapat diubah-ubah secara manual agar bisa mendapatkan kualitas ektraksi gambar terbaik."
      ]
    }
  ]
}