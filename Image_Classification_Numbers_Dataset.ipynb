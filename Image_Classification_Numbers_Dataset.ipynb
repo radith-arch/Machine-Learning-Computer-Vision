{
  "nbformat": 4,
  "nbformat_minor": 0,
  "metadata": {
    "colab": {
      "name": "Image Classification Numbers Dataset.ipynb",
      "provenance": [],
      "collapsed_sections": [
        "ncBycFn01am-",
        "2UfO8-RlthH-",
        "X3L794MzzACV",
        "YphToDITz48F"
      ],
      "toc_visible": true
    },
    "kernelspec": {
      "name": "python3",
      "display_name": "Python 3"
    }
  },
  "cells": [
    {
      "cell_type": "code",
      "metadata": {
        "id": "agwA6G8kOAba"
      },
      "source": [
        "# Library\n",
        "from skimage import feature\n",
        "from imutils import paths\n",
        "import numpy as np\n",
        "import cv2 as cv\n",
        "import os \n",
        "import pandas as pd\n",
        "from google.colab.patches import cv2_imshow\n",
        "import matplotlib.pyplot as plt"
      ],
      "execution_count": null,
      "outputs": []
    },
    {
      "cell_type": "markdown",
      "metadata": {
        "id": "4K0Nyte6OT08"
      },
      "source": [
        "# Function"
      ]
    },
    {
      "cell_type": "markdown",
      "metadata": {
        "id": "OuR14sXDyZIz"
      },
      "source": [
        "Metode Preprocessing"
      ]
    },
    {
      "cell_type": "code",
      "metadata": {
        "id": "i38AIHGPyYZ8"
      },
      "source": [
        "def preprocess(image, image_size=128):\n",
        "\t\timage = cv.cvtColor(image, cv.COLOR_BGR2GRAY) # Ubah mehjadi grayscale\n",
        "\t\timage = cv.resize(image, (image_size, image_size)) # Resize gambar menjadi suatu ukuran (default = 128)\n",
        "\n",
        "\t\timage = cv.threshold(image, 0, 255, cv.THRESH_BINARY_INV | cv.THRESH_OTSU)[1] # Melakukan thresholding dan mengambil hasil gambar thresholding\n",
        "\n",
        "\t\treturn image"
      ],
      "execution_count": null,
      "outputs": []
    },
    {
      "cell_type": "markdown",
      "metadata": {
        "id": "1hKGUl97zqC7"
      },
      "source": [
        "Histogram of Oriented Gradients (HOG)"
      ]
    },
    {
      "cell_type": "code",
      "metadata": {
        "id": "LIpKEka-y8wJ"
      },
      "source": [
        "def quantify_image_hog(image):\n",
        "  features = feature.hog(image, orientations=9, pixels_per_cell=(10, 10), cells_per_block=(2, 2), transform_sqrt=True, block_norm=\"L1\")\n",
        "\n",
        "  return features"
      ],
      "execution_count": null,
      "outputs": []
    },
    {
      "cell_type": "markdown",
      "metadata": {
        "id": "QypWSgu0zg6R"
      },
      "source": [
        "Local Binary Patterns (LBP)"
      ]
    },
    {
      "cell_type": "code",
      "metadata": {
        "id": "iXMkq03kzd1O"
      },
      "source": [
        "def quantify_image_lbp(image):\n",
        "  features = feature.local_binary_pattern(image, 24, 8, method=\"uniform\")\n",
        "\n",
        "  (hist, _) = np.histogram(features.flatten(), bins=np.arange(0, 27), range=(0, 26))\n",
        "\n",
        "  hist = hist.astype(\"float\")\n",
        "  hist /= (hist.sum() + 1e-7)\n",
        "\n",
        "  return hist"
      ],
      "execution_count": null,
      "outputs": []
    },
    {
      "cell_type": "markdown",
      "metadata": {
        "id": "OL412Qua-mYS"
      },
      "source": [
        "Pixel Binary"
      ]
    },
    {
      "cell_type": "code",
      "metadata": {
        "id": "1wOoYtgs-iL6"
      },
      "source": [
        "def quantify_image_pxb(image):\n",
        "  \n",
        "  image = image.flatten()\n",
        "\n",
        "  features = image / 255.0\n",
        "\n",
        "  return features"
      ],
      "execution_count": null,
      "outputs": []
    },
    {
      "cell_type": "markdown",
      "metadata": {
        "id": "1HKk0UrE0jlr"
      },
      "source": [
        " Split Dataset"
      ]
    },
    {
      "cell_type": "code",
      "metadata": {
        "id": "DrQCWQ-S0Wqv"
      },
      "source": [
        "def load_split(path, image_size=128, extraction_method='hog'):\n",
        "  image_paths = list(paths.list_images(path))\n",
        "  data = []\n",
        "  labels = []\n",
        "\n",
        "  for image_path in image_paths:\n",
        "    label = image_path.split(os.path.sep)[-2]\n",
        "\n",
        "    image = cv.imread(image_path)\n",
        "    image = preprocess(image, image_size=image_size)\n",
        "\n",
        "    if extraction_method == 'hog':\n",
        "      features = quantify_image_hog(image)\n",
        "    elif extraction_method == 'lbp':\n",
        "      features = quantify_image_lbp(image)\n",
        "    elif extraction_method == 'pxb':\n",
        "      features = quantify_image_pxb(image)\n",
        "\n",
        "    data.append(features)\n",
        "    labels.append(label)\n",
        "\n",
        "  return (np.array(data), np.array(labels))"
      ],
      "execution_count": null,
      "outputs": []
    },
    {
      "cell_type": "markdown",
      "metadata": {
        "id": "rzRR9a4u1-sa"
      },
      "source": [
        "Load Dataset"
      ]
    },
    {
      "cell_type": "code",
      "metadata": {
        "id": "is4Q9rEK19pg"
      },
      "source": [
        "dataset_dir = '/content/drive/My Drive/Datasets/numbers_dataset'\n",
        "\n",
        "trainingPath = os.path.join(dataset_dir, \"training\")\n",
        "testingPath = os.path.join(dataset_dir, \"testing\")"
      ],
      "execution_count": null,
      "outputs": []
    },
    {
      "cell_type": "markdown",
      "metadata": {
        "id": "BBXhnUiH_YOT"
      },
      "source": [
        "Algoritma Classification"
      ]
    },
    {
      "cell_type": "code",
      "metadata": {
        "id": "9IdMV1TE50vS"
      },
      "source": [
        "from sklearn.metrics import classification_report\n",
        "from sklearn.metrics import confusion_matrix\n",
        "from sklearn.metrics import f1_score, precision_score, recall_score"
      ],
      "execution_count": null,
      "outputs": []
    },
    {
      "cell_type": "markdown",
      "metadata": {
        "id": "y1Ri3TAm7N8b"
      },
      "source": [
        "Linear SVC"
      ]
    },
    {
      "cell_type": "code",
      "metadata": {
        "id": "u8XGnvVl7Nsz"
      },
      "source": [
        "from sklearn.svm import LinearSVC\n",
        "\n",
        "def classifier_linearsvc(feature_train, feature_test, label_train, label_test):\n",
        "  ls = LinearSVC(random_state=10)\n",
        "  ls.fit(feature_train, label_train)\n",
        "  pred = ls.predict(feature_test)\n",
        "\n",
        "  print(\"Linear SVC Classifier\")\n",
        "  print(classification_report(label_test, pred))\n",
        "  \n",
        "  print('Accuracy of LinearSVC Classifier on test set: {:.2f}'.format(ls.score(feature_test, label_test)))\n",
        "  print(\"F1\", f1_score(label_test, pred, average=\"macro\"))\n",
        "  print(\"Precision\", precision_score(label_test, pred, average=\"macro\"))\n",
        "  print(\"Recall\", recall_score(label_test, pred, average=\"macro\"))\n",
        "\n",
        "  return"
      ],
      "execution_count": null,
      "outputs": []
    },
    {
      "cell_type": "markdown",
      "metadata": {
        "id": "0kOifDa3-jYi"
      },
      "source": [
        "Logistic Regression\n",
        "\n"
      ]
    },
    {
      "cell_type": "code",
      "metadata": {
        "id": "KDJKhvaX-jBV"
      },
      "source": [
        "from sklearn.linear_model import LogisticRegression\n",
        "\n",
        "def classifier_logreg(feature_train, feature_test, label_train, label_test):\n",
        "  logreg = LogisticRegression()\n",
        "  logreg.fit(feature_train, label_train)\n",
        "  pred = logreg.predict(feature_test)\n",
        "\n",
        "  print(\"Logistic Regression Classifier\")\n",
        "  print(classification_report(label_test, pred))\n",
        "\n",
        "  print('Accuracy of Logistic Regression Classifier on test set: {:.2f}'.format(logreg.score(feature_test, label_test)))\n",
        "  print(\"F1\", f1_score(label_test, pred, average=\"macro\"))\n",
        "  print(\"Precision\", precision_score(label_test, pred, average=\"macro\"))\n",
        "  print(\"Recall\", recall_score(label_test, pred, average=\"macro\"))\n",
        "\n",
        "  return"
      ],
      "execution_count": null,
      "outputs": []
    },
    {
      "cell_type": "markdown",
      "metadata": {
        "id": "tRGRQVax-4sg"
      },
      "source": [
        "Random Forest"
      ]
    },
    {
      "cell_type": "code",
      "metadata": {
        "id": "PLKdOVcR-69A"
      },
      "source": [
        "from sklearn.ensemble import RandomForestClassifier\n",
        "\n",
        "def classifier_randomforest(feature_train, feature_test, label_train, label_test, n_estimator):\n",
        "  model = RandomForestClassifier(n_estimators=n_estimator, random_state=10)\n",
        "  model.fit(feature_train, label_train)\n",
        "  predictions = model.predict(feature_test)\n",
        "\n",
        "  print(\"Random Forest Classifier n_estimators:\", n_estimator)\n",
        "  print(classification_report(label_test, predictions))\n",
        "  print(pd.crosstab(label_test, predictions, rownames=['True'], colnames=['Predicted'], margins=True))\n",
        "\n",
        "  print('Accuracy of Random Forest on test set: {:.2f}'.format(model.score(feature_test, label_test)))\n",
        "  print(\"F1\", f1_score(label_test, predictions, average=\"macro\")) \n",
        "  print(\"Precision\", precision_score(label_test, predictions, average=\"macro\"))\n",
        "  print(\"Recall\", recall_score(label_test, predictions, average=\"macro\"))\n",
        "\n",
        "  return"
      ],
      "execution_count": null,
      "outputs": []
    },
    {
      "cell_type": "markdown",
      "metadata": {
        "id": "mX34Bx82je4q"
      },
      "source": [
        "KNN"
      ]
    },
    {
      "cell_type": "code",
      "metadata": {
        "id": "P27F08rOV-3i"
      },
      "source": [
        "from sklearn.neighbors import KNeighborsClassifier\n",
        "\n",
        "def classifier_knn(feature_train, feature_test, label_train, label_test, n_neighbor):\n",
        " \n",
        "  knn = KNeighborsClassifier(n_neighbors=n_neighbor, weights='uniform', algorithm='ball_tree', leaf_size=30)\n",
        "  knn.fit(feature_train, label_train)\n",
        "  predictions = knn.predict(feature_test)\n",
        "\n",
        "  print(\"KNneighbors Classifier n_neighbors:\", n_neighbor)\n",
        "  print(classification_report(label_test, predictions))\n",
        "\n",
        "  print('Accuracy of KNN on test set: {:.2f}'.format(knn.score(feature_test, label_test)))\n",
        "  print(\"F1\", f1_score(label_test, predictions, average=\"macro\")) \n",
        "  print(\"Precision\", precision_score(label_test, predictions, average=\"macro\"))\n",
        "  print(\"Recall\", recall_score(label_test, predictions, average=\"macro\"))\n",
        "\n",
        "  return"
      ],
      "execution_count": null,
      "outputs": []
    },
    {
      "cell_type": "markdown",
      "metadata": {
        "id": "progtVpxjijK"
      },
      "source": [
        "Decision Tree"
      ]
    },
    {
      "cell_type": "code",
      "metadata": {
        "id": "R1ch6AKvaws6"
      },
      "source": [
        "from sklearn.tree import DecisionTreeClassifier\n",
        "\n",
        "def classifier_dtree(feature_train, feature_test, label_train, label_test):\n",
        " \n",
        "  dtree = DecisionTreeClassifier(max_depth=5, random_state=10)\n",
        "  dtree.fit(feature_train, label_train)\n",
        "  predictions = dtree.predict(feature_test)\n",
        "\n",
        "  print(\"Decision Tree Classifier\")\n",
        "  print(classification_report(label_test, predictions))\n",
        "\n",
        "  print('Accuracy of Decision Tree Classifier on test set: {:.2f}'.format(dtree.score(feature_test, label_test)))\n",
        "  print(\"F1\", f1_score(label_test, predictions, average=\"macro\")) \n",
        "  print(\"Precision\", precision_score(label_test, predictions, average=\"macro\"))\n",
        "  print(\"Recall\", recall_score(label_test, predictions, average=\"macro\"))\n",
        "\n",
        "  return"
      ],
      "execution_count": null,
      "outputs": []
    },
    {
      "cell_type": "markdown",
      "metadata": {
        "id": "sE2N-xIojmzc"
      },
      "source": [
        "Neural Network"
      ]
    },
    {
      "cell_type": "code",
      "metadata": {
        "id": "GLYsUkrubn6l"
      },
      "source": [
        "from sklearn.neural_network import MLPClassifier\n",
        "\n",
        "def classifier_mlp(feature_train, feature_test, label_train, label_test):\n",
        " \n",
        "  mlp = MLPClassifier(solver='lbfgs',alpha=0.001,learning_rate='constant', random_state=10, max_iter=2500)\n",
        "  mlp.fit(feature_train, label_train)\n",
        "  predictions = mlp.predict(feature_test)\n",
        "\n",
        "  print(\"Neural Network MLP Classifier\")\n",
        "  print(classification_report(label_test, predictions))\n",
        "\n",
        "  print('Accuracy of Neural Network MLP Classifier on test set: {:.2f}'.format(mlp.score(feature_test, label_test)))\n",
        "  print(\"F1\", f1_score(label_test, predictions, average=\"macro\")) \n",
        "  print(\"Precision\", precision_score(label_test, predictions, average=\"macro\"))\n",
        "  print(\"Recall\", recall_score(label_test, predictions, average=\"macro\"))\n",
        "\n",
        "  return"
      ],
      "execution_count": null,
      "outputs": []
    },
    {
      "cell_type": "markdown",
      "metadata": {
        "id": "vfxbsJBnPaRB"
      },
      "source": [
        "# Feature extractor HOG dengan image size 128"
      ]
    },
    {
      "cell_type": "code",
      "metadata": {
        "id": "2GtlBdo52rri"
      },
      "source": [
        "resize_image_size = 128\n",
        "extraction_method = 'hog'"
      ],
      "execution_count": null,
      "outputs": []
    },
    {
      "cell_type": "code",
      "metadata": {
        "id": "xJQSd5D73CeE",
        "outputId": "ea26208d-f099-4238-d758-dcbc78012b8f",
        "colab": {
          "base_uri": "https://localhost:8080/",
          "height": 34
        }
      },
      "source": [
        "# Split Dataset\n",
        "\n",
        "(feature_train, label_train) = load_split(trainingPath, image_size=resize_image_size, extraction_method=extraction_method)\n",
        "(feature_test, label_test) = load_split(testingPath, image_size=resize_image_size, extraction_method=extraction_method)\n",
        "\n",
        "print(\"Data loaded!\")\n",
        "\n",
        "from sklearn.preprocessing import LabelEncoder\n",
        "\n",
        "le = LabelEncoder()\n",
        "label_train = le.fit_transform(label_train)\n",
        "label_test = le.transform(label_test)"
      ],
      "execution_count": null,
      "outputs": [
        {
          "output_type": "stream",
          "text": [
            "Data loaded!\n"
          ],
          "name": "stdout"
        }
      ]
    },
    {
      "cell_type": "code",
      "metadata": {
        "id": "rgAr7tvHOq1s",
        "outputId": "fd36e953-25c5-41e3-c913-265aa70698a3",
        "colab": {
          "base_uri": "https://localhost:8080/",
          "height": 272
        }
      },
      "source": [
        "classifier_linearsvc(feature_train, feature_test, label_train, label_test)"
      ],
      "execution_count": null,
      "outputs": [
        {
          "output_type": "stream",
          "text": [
            "Linear SVC Classifier\n",
            "              precision    recall  f1-score   support\n",
            "\n",
            "           0       0.99      1.00      0.99       300\n",
            "           1       1.00      1.00      1.00       300\n",
            "           2       1.00      0.99      0.99       300\n",
            "\n",
            "    accuracy                           0.99       900\n",
            "   macro avg       0.99      0.99      0.99       900\n",
            "weighted avg       0.99      0.99      0.99       900\n",
            "\n",
            "Accuracy of LinearSVC Classifier on test set: 0.99\n",
            "F1 0.9944443950611798\n",
            "Precision 0.994459062378081\n",
            "Recall 0.9944444444444445\n"
          ],
          "name": "stdout"
        }
      ]
    },
    {
      "cell_type": "code",
      "metadata": {
        "id": "Xx8Yo4J3PFkV",
        "outputId": "734cca18-1637-4231-f210-616bf0a64cd8",
        "colab": {
          "base_uri": "https://localhost:8080/",
          "height": 272
        }
      },
      "source": [
        "classifier_logreg(feature_train, feature_test, label_train, label_test)"
      ],
      "execution_count": null,
      "outputs": [
        {
          "output_type": "stream",
          "text": [
            "Logistic Regression Classifier\n",
            "              precision    recall  f1-score   support\n",
            "\n",
            "           0       0.98      1.00      0.99       300\n",
            "           1       1.00      1.00      1.00       300\n",
            "           2       1.00      0.98      0.99       300\n",
            "\n",
            "    accuracy                           0.99       900\n",
            "   macro avg       0.99      0.99      0.99       900\n",
            "weighted avg       0.99      0.99      0.99       900\n",
            "\n",
            "Accuracy of Logistic Regression Classifier on test set: 0.99\n",
            "F1 0.9922219259127566\n",
            "Precision 0.9922803066224118\n",
            "Recall 0.9922222222222222\n"
          ],
          "name": "stdout"
        }
      ]
    },
    {
      "cell_type": "code",
      "metadata": {
        "id": "NKenM3_BPIMz",
        "outputId": "2872abf5-0267-4e30-8740-d64de2a09f51",
        "colab": {
          "base_uri": "https://localhost:8080/",
          "height": 374
        }
      },
      "source": [
        "classifier_randomforest(feature_train, feature_test, label_train, label_test, 100)"
      ],
      "execution_count": null,
      "outputs": [
        {
          "output_type": "stream",
          "text": [
            "Random Forest Classifier n_estimators: 100\n",
            "              precision    recall  f1-score   support\n",
            "\n",
            "           0       0.99      1.00      1.00       300\n",
            "           1       1.00      0.99      1.00       300\n",
            "           2       0.99      0.99      0.99       300\n",
            "\n",
            "    accuracy                           0.99       900\n",
            "   macro avg       0.99      0.99      0.99       900\n",
            "weighted avg       0.99      0.99      0.99       900\n",
            "\n",
            "Predicted    0    1    2  All\n",
            "True                         \n",
            "0          300    0    0  300\n",
            "1            0  298    2  300\n",
            "2            3    0  297  300\n",
            "All        303  298  299  900\n",
            "Accuracy of Random Forest on test set: 0.99\n",
            "F1 0.9944443828691748\n",
            "Precision 0.9944700155634293\n",
            "Recall 0.9944444444444445\n"
          ],
          "name": "stdout"
        }
      ]
    },
    {
      "cell_type": "code",
      "metadata": {
        "id": "Urd8j3c6VLUY",
        "outputId": "1967b180-3884-46ff-d064-a60797c7e64e",
        "colab": {
          "base_uri": "https://localhost:8080/",
          "height": 374
        }
      },
      "source": [
        "classifier_randomforest(feature_train, feature_test, label_train, label_test, 150)"
      ],
      "execution_count": null,
      "outputs": [
        {
          "output_type": "stream",
          "text": [
            "Random Forest Classifier n_estimators: 150\n",
            "              precision    recall  f1-score   support\n",
            "\n",
            "           0       0.99      1.00      1.00       300\n",
            "           1       1.00      0.99      1.00       300\n",
            "           2       0.99      0.99      0.99       300\n",
            "\n",
            "    accuracy                           0.99       900\n",
            "   macro avg       0.99      0.99      0.99       900\n",
            "weighted avg       0.99      0.99      0.99       900\n",
            "\n",
            "Predicted    0    1    2  All\n",
            "True                         \n",
            "0          300    0    0  300\n",
            "1            0  298    2  300\n",
            "2            3    0  297  300\n",
            "All        303  298  299  900\n",
            "Accuracy of Random Forest on test set: 0.99\n",
            "F1 0.9944443828691748\n",
            "Precision 0.9944700155634293\n",
            "Recall 0.9944444444444445\n"
          ],
          "name": "stdout"
        }
      ]
    },
    {
      "cell_type": "code",
      "metadata": {
        "id": "Cs8Kq0RIVNRH",
        "outputId": "829f8568-8705-4d39-f23e-dd1134e0774b",
        "colab": {
          "base_uri": "https://localhost:8080/",
          "height": 374
        }
      },
      "source": [
        "classifier_randomforest(feature_train, feature_test, label_train, label_test, 200)"
      ],
      "execution_count": null,
      "outputs": [
        {
          "output_type": "stream",
          "text": [
            "Random Forest Classifier n_estimators: 200\n",
            "              precision    recall  f1-score   support\n",
            "\n",
            "           0       0.99      1.00      1.00       300\n",
            "           1       1.00      0.99      1.00       300\n",
            "           2       0.99      0.99      0.99       300\n",
            "\n",
            "    accuracy                           0.99       900\n",
            "   macro avg       0.99      0.99      0.99       900\n",
            "weighted avg       0.99      0.99      0.99       900\n",
            "\n",
            "Predicted    0    1    2  All\n",
            "True                         \n",
            "0          300    0    0  300\n",
            "1            0  298    2  300\n",
            "2            3    0  297  300\n",
            "All        303  298  299  900\n",
            "Accuracy of Random Forest on test set: 0.99\n",
            "F1 0.9944443828691748\n",
            "Precision 0.9944700155634293\n",
            "Recall 0.9944444444444445\n"
          ],
          "name": "stdout"
        }
      ]
    },
    {
      "cell_type": "code",
      "metadata": {
        "id": "KTKZDCHNVPHX",
        "outputId": "cd897efe-54f0-4b35-aee1-78ea6dd71041",
        "colab": {
          "base_uri": "https://localhost:8080/",
          "height": 272
        }
      },
      "source": [
        "classifier_knn(feature_train, feature_test, label_train, label_test, 3)"
      ],
      "execution_count": null,
      "outputs": [
        {
          "output_type": "stream",
          "text": [
            "KNneighbors Classifier n_neighbors: 3\n",
            "              precision    recall  f1-score   support\n",
            "\n",
            "           0       0.98      1.00      0.99       300\n",
            "           1       0.98      1.00      0.99       300\n",
            "           2       1.00      0.97      0.98       300\n",
            "\n",
            "    accuracy                           0.99       900\n",
            "   macro avg       0.99      0.99      0.99       900\n",
            "weighted avg       0.99      0.99      0.99       900\n",
            "\n",
            "Accuracy of KNN on test set: 0.99\n",
            "F1 0.987729747068351\n",
            "Precision 0.9879075876130526\n",
            "Recall 0.9877777777777778\n"
          ],
          "name": "stdout"
        }
      ]
    },
    {
      "cell_type": "code",
      "metadata": {
        "id": "dZV2zeBpVQMJ",
        "outputId": "10a3e58b-348f-4d4f-cc86-c096ac155c86",
        "colab": {
          "base_uri": "https://localhost:8080/",
          "height": 272
        }
      },
      "source": [
        "classifier_knn(feature_train, feature_test, label_train, label_test, 7)"
      ],
      "execution_count": null,
      "outputs": [
        {
          "output_type": "stream",
          "text": [
            "KNneighbors Classifier n_neighbors: 7\n",
            "              precision    recall  f1-score   support\n",
            "\n",
            "           0       0.98      1.00      0.99       300\n",
            "           1       0.98      0.99      0.99       300\n",
            "           2       1.00      0.96      0.98       300\n",
            "\n",
            "    accuracy                           0.98       900\n",
            "   macro avg       0.98      0.98      0.98       900\n",
            "weighted avg       0.98      0.98      0.98       900\n",
            "\n",
            "Accuracy of KNN on test set: 0.98\n",
            "F1 0.9843838898475431\n",
            "Precision 0.9846603765260523\n",
            "Recall 0.9844444444444443\n"
          ],
          "name": "stdout"
        }
      ]
    },
    {
      "cell_type": "code",
      "metadata": {
        "id": "qJpciaZQXWLg",
        "outputId": "78cc15a8-9cee-405a-c227-a2ccd694aacd",
        "colab": {
          "base_uri": "https://localhost:8080/",
          "height": 272
        }
      },
      "source": [
        "classifier_knn(feature_train, feature_test, label_train, label_test, 11)"
      ],
      "execution_count": null,
      "outputs": [
        {
          "output_type": "stream",
          "text": [
            "KNneighbors Classifier n_neighbors: 11\n",
            "              precision    recall  f1-score   support\n",
            "\n",
            "           0       0.98      1.00      0.99       300\n",
            "           1       0.97      1.00      0.98       300\n",
            "           2       1.00      0.95      0.97       300\n",
            "\n",
            "    accuracy                           0.98       900\n",
            "   macro avg       0.98      0.98      0.98       900\n",
            "weighted avg       0.98      0.98      0.98       900\n",
            "\n",
            "Accuracy of KNN on test set: 0.98\n",
            "F1 0.9821429069844702\n",
            "Precision 0.9825409230247294\n",
            "Recall 0.9822222222222222\n"
          ],
          "name": "stdout"
        }
      ]
    },
    {
      "cell_type": "code",
      "metadata": {
        "id": "ofcD9XotbZ4z",
        "outputId": "e635bcf5-1b7c-4b07-f07b-65291787e451",
        "colab": {
          "base_uri": "https://localhost:8080/",
          "height": 272
        }
      },
      "source": [
        "classifier_dtree(feature_train, feature_test, label_train, label_test)"
      ],
      "execution_count": null,
      "outputs": [
        {
          "output_type": "stream",
          "text": [
            "Decision Tree Classifier\n",
            "              precision    recall  f1-score   support\n",
            "\n",
            "           0       0.98      0.90      0.94       300\n",
            "           1       0.97      0.94      0.96       300\n",
            "           2       0.86      0.96      0.91       300\n",
            "\n",
            "    accuracy                           0.93       900\n",
            "   macro avg       0.94      0.93      0.93       900\n",
            "weighted avg       0.94      0.93      0.93       900\n",
            "\n",
            "Accuracy of Decision Tree Classifier on test set: 0.93\n",
            "F1 0.9339972881799931\n",
            "Precision 0.9375437741641237\n",
            "Recall 0.9333333333333332\n"
          ],
          "name": "stdout"
        }
      ]
    },
    {
      "cell_type": "code",
      "metadata": {
        "id": "HN3iX00GcLQO",
        "outputId": "1b4cdbc8-9bbf-4e84-a64f-6a8fc901482f",
        "colab": {
          "base_uri": "https://localhost:8080/",
          "height": 272
        }
      },
      "source": [
        "classifier_mlp(feature_train, feature_test, label_train, label_test)"
      ],
      "execution_count": null,
      "outputs": [
        {
          "output_type": "stream",
          "text": [
            "Neural Network MLP Classifier\n",
            "              precision    recall  f1-score   support\n",
            "\n",
            "           0       0.99      1.00      0.99       300\n",
            "           1       1.00      0.99      0.99       300\n",
            "           2       1.00      0.99      0.99       300\n",
            "\n",
            "    accuracy                           0.99       900\n",
            "   macro avg       0.99      0.99      0.99       900\n",
            "weighted avg       0.99      0.99      0.99       900\n",
            "\n",
            "Accuracy of Neural Network MLP Classifier on test set: 0.99\n",
            "F1 0.993331308939355\n",
            "Precision 0.9933768734302677\n",
            "Recall 0.9933333333333333\n"
          ],
          "name": "stdout"
        }
      ]
    },
    {
      "cell_type": "markdown",
      "metadata": {
        "id": "N712hIOvQRWd"
      },
      "source": [
        "# Feature extractor LBP dengan image size 128"
      ]
    },
    {
      "cell_type": "code",
      "metadata": {
        "id": "2Mxk-zVQQRWf"
      },
      "source": [
        "resize_image_size = 128\n",
        "extraction_method = 'lbp'"
      ],
      "execution_count": null,
      "outputs": []
    },
    {
      "cell_type": "code",
      "metadata": {
        "id": "7xoUqKY6QRWm",
        "outputId": "9c2407b4-3cf2-4335-f213-4c4dc1d861ab",
        "colab": {
          "base_uri": "https://localhost:8080/",
          "height": 34
        }
      },
      "source": [
        "# Split Dataset\n",
        "\n",
        "(feature_train, label_train) = load_split(trainingPath, image_size=resize_image_size, extraction_method=extraction_method)\n",
        "(feature_test, label_test) = load_split(testingPath, image_size=resize_image_size, extraction_method=extraction_method)\n",
        "\n",
        "print(\"Data loaded!\")\n",
        "\n",
        "from sklearn.preprocessing import LabelEncoder\n",
        "\n",
        "le = LabelEncoder()\n",
        "label_train = le.fit_transform(label_train)\n",
        "label_test = le.transform(label_test)"
      ],
      "execution_count": null,
      "outputs": [
        {
          "output_type": "stream",
          "text": [
            "Data loaded!\n"
          ],
          "name": "stdout"
        }
      ]
    },
    {
      "cell_type": "code",
      "metadata": {
        "id": "Xygx9xfpe92m",
        "outputId": "0b43a9e3-5f4d-415c-95da-4a9f385207b2",
        "colab": {
          "base_uri": "https://localhost:8080/",
          "height": 272
        }
      },
      "source": [
        "classifier_linearsvc(feature_train, feature_test, label_train, label_test)"
      ],
      "execution_count": null,
      "outputs": [
        {
          "output_type": "stream",
          "text": [
            "Linear SVC Classifier\n",
            "              precision    recall  f1-score   support\n",
            "\n",
            "           0       0.99      0.69      0.81       300\n",
            "           1       0.91      1.00      0.95       300\n",
            "           2       0.77      0.92      0.84       300\n",
            "\n",
            "    accuracy                           0.87       900\n",
            "   macro avg       0.89      0.87      0.87       900\n",
            "weighted avg       0.89      0.87      0.87       900\n",
            "\n",
            "Accuracy of LinearSVC Classifier on test set: 0.87\n",
            "F1 0.8680375353572187\n",
            "Precision 0.8891593651729268\n",
            "Recall 0.8711111111111111\n"
          ],
          "name": "stdout"
        }
      ]
    },
    {
      "cell_type": "code",
      "metadata": {
        "id": "8Exd1gxje98X",
        "outputId": "dc16f8c7-752f-4afa-8806-f6dadd28ed44",
        "colab": {
          "base_uri": "https://localhost:8080/",
          "height": 272
        }
      },
      "source": [
        "classifier_logreg(feature_train, feature_test, label_train, label_test)"
      ],
      "execution_count": null,
      "outputs": [
        {
          "output_type": "stream",
          "text": [
            "Logistic Regression Classifier\n",
            "              precision    recall  f1-score   support\n",
            "\n",
            "           0       0.95      0.21      0.34       300\n",
            "           1       0.93      1.00      0.96       300\n",
            "           2       0.54      0.93      0.69       300\n",
            "\n",
            "    accuracy                           0.71       900\n",
            "   macro avg       0.81      0.71      0.66       900\n",
            "weighted avg       0.81      0.71      0.66       900\n",
            "\n",
            "Accuracy of Logistic Regression Classifier on test set: 0.71\n",
            "F1 0.6645240405045216\n",
            "Precision 0.8099564260410301\n",
            "Recall 0.7122222222222222\n"
          ],
          "name": "stdout"
        }
      ]
    },
    {
      "cell_type": "code",
      "metadata": {
        "id": "d8p2SSkme82f",
        "outputId": "f0142142-338c-4c48-b2cd-67a7d0267a3d",
        "colab": {
          "base_uri": "https://localhost:8080/",
          "height": 374
        }
      },
      "source": [
        "classifier_randomforest(feature_train, feature_test, label_train, label_test, 100)"
      ],
      "execution_count": null,
      "outputs": [
        {
          "output_type": "stream",
          "text": [
            "Random Forest Classifier n_estimators: 100\n",
            "              precision    recall  f1-score   support\n",
            "\n",
            "           0       0.98      0.93      0.95       300\n",
            "           1       1.00      1.00      1.00       300\n",
            "           2       0.93      0.98      0.95       300\n",
            "\n",
            "    accuracy                           0.97       900\n",
            "   macro avg       0.97      0.97      0.97       900\n",
            "weighted avg       0.97      0.97      0.97       900\n",
            "\n",
            "Predicted    0    1    2  All\n",
            "True                         \n",
            "0          280    0   20  300\n",
            "1            0  299    1  300\n",
            "2            7    0  293  300\n",
            "All        287  299  314  900\n",
            "Accuracy of Random Forest on test set: 0.97\n",
            "F1 0.9689104507366769\n",
            "Precision 0.9695769250686137\n",
            "Recall 0.9688888888888889\n"
          ],
          "name": "stdout"
        }
      ]
    },
    {
      "cell_type": "code",
      "metadata": {
        "id": "0Q8r2vUpe9j6",
        "outputId": "b1117195-cb16-414d-d3de-10d2ab991f8c",
        "colab": {
          "base_uri": "https://localhost:8080/",
          "height": 374
        }
      },
      "source": [
        "classifier_randomforest(feature_train, feature_test, label_train, label_test, 150)"
      ],
      "execution_count": null,
      "outputs": [
        {
          "output_type": "stream",
          "text": [
            "Random Forest Classifier n_estimators: 150\n",
            "              precision    recall  f1-score   support\n",
            "\n",
            "           0       0.98      0.93      0.95       300\n",
            "           1       0.99      1.00      1.00       300\n",
            "           2       0.93      0.98      0.95       300\n",
            "\n",
            "    accuracy                           0.97       900\n",
            "   macro avg       0.97      0.97      0.97       900\n",
            "weighted avg       0.97      0.97      0.97       900\n",
            "\n",
            "Predicted    0    1    2  All\n",
            "True                         \n",
            "0          278    2   20  300\n",
            "1            0  299    1  300\n",
            "2            7    0  293  300\n",
            "All        285  301  314  900\n",
            "Accuracy of Random Forest on test set: 0.97\n",
            "F1 0.966611021343904\n",
            "Precision 0.967305032442361\n",
            "Recall 0.9666666666666667\n"
          ],
          "name": "stdout"
        }
      ]
    },
    {
      "cell_type": "code",
      "metadata": {
        "id": "XYWyEUwbe-CI",
        "outputId": "767f0ed9-0e6b-41f4-e496-990afbb356d0",
        "colab": {
          "base_uri": "https://localhost:8080/",
          "height": 374
        }
      },
      "source": [
        "classifier_randomforest(feature_train, feature_test, label_train, label_test, 200)"
      ],
      "execution_count": null,
      "outputs": [
        {
          "output_type": "stream",
          "text": [
            "Random Forest Classifier n_estimators: 200\n",
            "              precision    recall  f1-score   support\n",
            "\n",
            "           0       0.98      0.93      0.95       300\n",
            "           1       1.00      1.00      1.00       300\n",
            "           2       0.93      0.98      0.95       300\n",
            "\n",
            "    accuracy                           0.97       900\n",
            "   macro avg       0.97      0.97      0.97       900\n",
            "weighted avg       0.97      0.97      0.97       900\n",
            "\n",
            "Predicted    0    1    2  All\n",
            "True                         \n",
            "0          279    1   20  300\n",
            "1            0  299    1  300\n",
            "2            7    0  293  300\n",
            "All        286  300  314  900\n",
            "Accuracy of Random Forest on test set: 0.97\n",
            "F1 0.9677608302792015\n",
            "Precision 0.9684373870998075\n",
            "Recall 0.9677777777777777\n"
          ],
          "name": "stdout"
        }
      ]
    },
    {
      "cell_type": "code",
      "metadata": {
        "id": "8RbDBiBWfFDN",
        "outputId": "5df9bef2-a4ae-4b2d-bb24-bb7ef1db8823",
        "colab": {
          "base_uri": "https://localhost:8080/",
          "height": 272
        }
      },
      "source": [
        "classifier_knn(feature_train, feature_test, label_train, label_test, 3)"
      ],
      "execution_count": null,
      "outputs": [
        {
          "output_type": "stream",
          "text": [
            "KNneighbors Classifier n_neighbors: 3\n",
            "              precision    recall  f1-score   support\n",
            "\n",
            "           0       0.95      0.92      0.94       300\n",
            "           1       0.99      0.98      0.99       300\n",
            "           2       0.91      0.95      0.93       300\n",
            "\n",
            "    accuracy                           0.95       900\n",
            "   macro avg       0.95      0.95      0.95       900\n",
            "weighted avg       0.95      0.95      0.95       900\n",
            "\n",
            "Accuracy of KNN on test set: 0.95\n",
            "F1 0.951236361866641\n",
            "Precision 0.95169313666502\n",
            "Recall 0.9511111111111111\n"
          ],
          "name": "stdout"
        }
      ]
    },
    {
      "cell_type": "code",
      "metadata": {
        "id": "II1MUgCqfEm_",
        "outputId": "df9b142a-0f4e-405a-f38f-b36780961ab9",
        "colab": {
          "base_uri": "https://localhost:8080/",
          "height": 272
        }
      },
      "source": [
        "classifier_knn(feature_train, feature_test, label_train, label_test, 7)"
      ],
      "execution_count": null,
      "outputs": [
        {
          "output_type": "stream",
          "text": [
            "KNneighbors Classifier n_neighbors: 7\n",
            "              precision    recall  f1-score   support\n",
            "\n",
            "           0       0.98      0.92      0.95       300\n",
            "           1       0.99      0.99      0.99       300\n",
            "           2       0.92      0.98      0.95       300\n",
            "\n",
            "    accuracy                           0.96       900\n",
            "   macro avg       0.96      0.96      0.96       900\n",
            "weighted avg       0.96      0.96      0.96       900\n",
            "\n",
            "Accuracy of KNN on test set: 0.96\n",
            "F1 0.961152587547207\n",
            "Precision 0.9625279078740125\n",
            "Recall 0.9611111111111111\n"
          ],
          "name": "stdout"
        }
      ]
    },
    {
      "cell_type": "code",
      "metadata": {
        "id": "BXVbHjVqe-Q9",
        "outputId": "51479d7e-c98a-4da4-d4a3-a7984c02792e",
        "colab": {
          "base_uri": "https://localhost:8080/",
          "height": 272
        }
      },
      "source": [
        "classifier_knn(feature_train, feature_test, label_train, label_test, 11)"
      ],
      "execution_count": null,
      "outputs": [
        {
          "output_type": "stream",
          "text": [
            "KNneighbors Classifier n_neighbors: 11\n",
            "              precision    recall  f1-score   support\n",
            "\n",
            "           0       0.97      0.92      0.95       300\n",
            "           1       0.99      0.99      0.99       300\n",
            "           2       0.92      0.97      0.94       300\n",
            "\n",
            "    accuracy                           0.96       900\n",
            "   macro avg       0.96      0.96      0.96       900\n",
            "weighted avg       0.96      0.96      0.96       900\n",
            "\n",
            "Accuracy of KNN on test set: 0.96\n",
            "F1 0.9600448923176236\n",
            "Precision 0.9608258086518956\n",
            "Recall 0.96\n"
          ],
          "name": "stdout"
        }
      ]
    },
    {
      "cell_type": "code",
      "metadata": {
        "id": "mxzJDbOfe-Yk",
        "outputId": "c1042d40-6881-455f-ea44-765debeb3e82",
        "colab": {
          "base_uri": "https://localhost:8080/",
          "height": 272
        }
      },
      "source": [
        "classifier_dtree(feature_train, feature_test, label_train, label_test)"
      ],
      "execution_count": null,
      "outputs": [
        {
          "output_type": "stream",
          "text": [
            "Decision Tree Classifier\n",
            "              precision    recall  f1-score   support\n",
            "\n",
            "           0       0.95      0.90      0.92       300\n",
            "           1       1.00      0.98      0.99       300\n",
            "           2       0.89      0.95      0.92       300\n",
            "\n",
            "    accuracy                           0.94       900\n",
            "   macro avg       0.95      0.94      0.94       900\n",
            "weighted avg       0.95      0.94      0.94       900\n",
            "\n",
            "Accuracy of Decision Tree Classifier on test set: 0.94\n",
            "F1 0.9436167697037262\n",
            "Precision 0.9450729627807837\n",
            "Recall 0.9433333333333334\n"
          ],
          "name": "stdout"
        }
      ]
    },
    {
      "cell_type": "code",
      "metadata": {
        "id": "hzwN_aYHe-e2",
        "outputId": "61a8762c-3d1c-499c-c8a7-4b0529824306",
        "colab": {
          "base_uri": "https://localhost:8080/",
          "height": 272
        }
      },
      "source": [
        "classifier_mlp(feature_train, feature_test, label_train, label_test)"
      ],
      "execution_count": null,
      "outputs": [
        {
          "output_type": "stream",
          "text": [
            "Neural Network MLP Classifier\n",
            "              precision    recall  f1-score   support\n",
            "\n",
            "           0       0.96      0.94      0.95       300\n",
            "           1       1.00      1.00      1.00       300\n",
            "           2       0.94      0.96      0.95       300\n",
            "\n",
            "    accuracy                           0.97       900\n",
            "   macro avg       0.97      0.97      0.97       900\n",
            "weighted avg       0.97      0.97      0.97       900\n",
            "\n",
            "Accuracy of Neural Network MLP Classifier on test set: 0.97\n",
            "F1 0.9678055188328122\n",
            "Precision 0.9679843707298338\n",
            "Recall 0.9677777777777777\n"
          ],
          "name": "stdout"
        }
      ]
    },
    {
      "cell_type": "markdown",
      "metadata": {
        "id": "w78aFLTL1zBG"
      },
      "source": [
        "Dari data di atas, ditemukan hasil terbaik untuk masing-masing algoritma pada HOG dan LBP :\n",
        "\n",
        "HOG - image size 128, menggunakan KNN(k=3) memiliki akurasi 99% & f1 score 98%\n",
        "\n",
        "LBP - image size 128, menggunakan Random Forest (n=150) memiliki akurasi 97% & f1 score 96%\n",
        "\n",
        "Dengan metode ekstraksi dan image size yang berbeda-beda menghasilkan keakurasian yang berbeda pula, dapat disimpulkan bahwa hasil keakurasian tergantung dengan objek /teksture di dalam gambar yang akan di klasifikasikan"
      ]
    },
    {
      "cell_type": "markdown",
      "metadata": {
        "id": "ncBycFn01am-"
      },
      "source": [
        "# Input Number"
      ]
    },
    {
      "cell_type": "markdown",
      "metadata": {
        "id": "2UfO8-RlthH-"
      },
      "source": [
        "## Input Number 0"
      ]
    },
    {
      "cell_type": "code",
      "metadata": {
        "id": "s3vml6hQtgRE",
        "outputId": "71a604b8-3d1c-4405-f64f-570f6b36dbd8",
        "colab": {
          "base_uri": "https://localhost:8080/",
          "height": 514
        }
      },
      "source": [
        "image = cv.imread('/content/drive/My Drive/Datasets/numbers_dataset/number0.jpg')\n",
        "\n",
        "image_orig = image.copy()\n",
        "\n",
        "image_gray = cv.cvtColor(image, cv.COLOR_BGR2GRAY)\n",
        "\n",
        "image_thresh = cv.threshold(image_gray, 140, 255, cv.THRESH_BINARY)[1]\n",
        "\n",
        "thresholding_result = cv.bitwise_not(image_thresh)\n",
        "kernel = cv.getStructuringElement(cv.MORPH_ELLIPSE,(9,9))\n",
        "dilation = cv.dilate(thresholding_result,kernel,iterations = 2)\n",
        "\n",
        "contours, hierarchy = cv.findContours(thresholding_result, cv.RETR_EXTERNAL, cv.CHAIN_APPROX_SIMPLE)\n",
        "\n",
        "data_area = []\n",
        "for index, contour in enumerate(contours):\n",
        "  x, y, w, h = cv.boundingRect(contour)\n",
        "  area = cv.contourArea(contour)\n",
        "  data_area.append([index, area, w, h])\n",
        "\n",
        "df_area = pd.DataFrame(data_area)\n",
        "df_area.columns = ['index', 'area', 'width', 'height']\n",
        "df_sort = df_area.sort_values(by=['area'],ascending=False)\n",
        "df_sort.head(15)"
      ],
      "execution_count": null,
      "outputs": [
        {
          "output_type": "execute_result",
          "data": {
            "text/html": [
              "<div>\n",
              "<style scoped>\n",
              "    .dataframe tbody tr th:only-of-type {\n",
              "        vertical-align: middle;\n",
              "    }\n",
              "\n",
              "    .dataframe tbody tr th {\n",
              "        vertical-align: top;\n",
              "    }\n",
              "\n",
              "    .dataframe thead th {\n",
              "        text-align: right;\n",
              "    }\n",
              "</style>\n",
              "<table border=\"1\" class=\"dataframe\">\n",
              "  <thead>\n",
              "    <tr style=\"text-align: right;\">\n",
              "      <th></th>\n",
              "      <th>index</th>\n",
              "      <th>area</th>\n",
              "      <th>width</th>\n",
              "      <th>height</th>\n",
              "    </tr>\n",
              "  </thead>\n",
              "  <tbody>\n",
              "    <tr>\n",
              "      <th>1838</th>\n",
              "      <td>1838</td>\n",
              "      <td>1495994.0</td>\n",
              "      <td>1286</td>\n",
              "      <td>1558</td>\n",
              "    </tr>\n",
              "    <tr>\n",
              "      <th>1892</th>\n",
              "      <td>1892</td>\n",
              "      <td>49668.0</td>\n",
              "      <td>230</td>\n",
              "      <td>287</td>\n",
              "    </tr>\n",
              "    <tr>\n",
              "      <th>1898</th>\n",
              "      <td>1898</td>\n",
              "      <td>44136.5</td>\n",
              "      <td>238</td>\n",
              "      <td>238</td>\n",
              "    </tr>\n",
              "    <tr>\n",
              "      <th>1899</th>\n",
              "      <td>1899</td>\n",
              "      <td>39492.5</td>\n",
              "      <td>191</td>\n",
              "      <td>275</td>\n",
              "    </tr>\n",
              "    <tr>\n",
              "      <th>1893</th>\n",
              "      <td>1893</td>\n",
              "      <td>38186.0</td>\n",
              "      <td>189</td>\n",
              "      <td>269</td>\n",
              "    </tr>\n",
              "    <tr>\n",
              "      <th>1918</th>\n",
              "      <td>1918</td>\n",
              "      <td>12420.5</td>\n",
              "      <td>209</td>\n",
              "      <td>226</td>\n",
              "    </tr>\n",
              "    <tr>\n",
              "      <th>1920</th>\n",
              "      <td>1920</td>\n",
              "      <td>10755.5</td>\n",
              "      <td>237</td>\n",
              "      <td>262</td>\n",
              "    </tr>\n",
              "    <tr>\n",
              "      <th>1191</th>\n",
              "      <td>1191</td>\n",
              "      <td>6611.5</td>\n",
              "      <td>163</td>\n",
              "      <td>101</td>\n",
              "    </tr>\n",
              "    <tr>\n",
              "      <th>573</th>\n",
              "      <td>573</td>\n",
              "      <td>5665.0</td>\n",
              "      <td>109</td>\n",
              "      <td>130</td>\n",
              "    </tr>\n",
              "    <tr>\n",
              "      <th>1330</th>\n",
              "      <td>1330</td>\n",
              "      <td>2040.0</td>\n",
              "      <td>59</td>\n",
              "      <td>99</td>\n",
              "    </tr>\n",
              "    <tr>\n",
              "      <th>294</th>\n",
              "      <td>294</td>\n",
              "      <td>1836.0</td>\n",
              "      <td>71</td>\n",
              "      <td>88</td>\n",
              "    </tr>\n",
              "    <tr>\n",
              "      <th>783</th>\n",
              "      <td>783</td>\n",
              "      <td>1751.5</td>\n",
              "      <td>57</td>\n",
              "      <td>63</td>\n",
              "    </tr>\n",
              "    <tr>\n",
              "      <th>1004</th>\n",
              "      <td>1004</td>\n",
              "      <td>1454.0</td>\n",
              "      <td>48</td>\n",
              "      <td>76</td>\n",
              "    </tr>\n",
              "    <tr>\n",
              "      <th>555</th>\n",
              "      <td>555</td>\n",
              "      <td>1107.5</td>\n",
              "      <td>33</td>\n",
              "      <td>79</td>\n",
              "    </tr>\n",
              "    <tr>\n",
              "      <th>475</th>\n",
              "      <td>475</td>\n",
              "      <td>940.5</td>\n",
              "      <td>49</td>\n",
              "      <td>46</td>\n",
              "    </tr>\n",
              "  </tbody>\n",
              "</table>\n",
              "</div>"
            ],
            "text/plain": [
              "      index       area  width  height\n",
              "1838   1838  1495994.0   1286    1558\n",
              "1892   1892    49668.0    230     287\n",
              "1898   1898    44136.5    238     238\n",
              "1899   1899    39492.5    191     275\n",
              "1893   1893    38186.0    189     269\n",
              "1918   1918    12420.5    209     226\n",
              "1920   1920    10755.5    237     262\n",
              "1191   1191     6611.5    163     101\n",
              "573     573     5665.0    109     130\n",
              "1330   1330     2040.0     59      99\n",
              "294     294     1836.0     71      88\n",
              "783     783     1751.5     57      63\n",
              "1004   1004     1454.0     48      76\n",
              "555     555     1107.5     33      79\n",
              "475     475      940.5     49      46"
            ]
          },
          "metadata": {
            "tags": []
          },
          "execution_count": 81
        }
      ]
    },
    {
      "cell_type": "code",
      "metadata": {
        "id": "Oz0eMYD8xHC6",
        "outputId": "e806a2e7-a4ae-468b-b163-45b2a60dcb5c",
        "colab": {
          "base_uri": "https://localhost:8080/",
          "height": 187
        }
      },
      "source": [
        "# os.chdir('/content/drive/My Drive/Datasets/numbers_dataset')\n",
        "\n",
        "os.listdir('.')"
      ],
      "execution_count": null,
      "outputs": [
        {
          "output_type": "execute_result",
          "data": {
            "text/plain": [
              "['num2_0.png',\n",
              " 'num2_1.png',\n",
              " 'num2_2.png',\n",
              " 'num2_3.png',\n",
              " 'num2_4.png',\n",
              " 'num2_5.png',\n",
              " 'num2_6.png',\n",
              " 'num2_7.png',\n",
              " 'num2_8.png',\n",
              " 'num2_9.png']"
            ]
          },
          "metadata": {
            "tags": []
          },
          "execution_count": 82
        }
      ]
    },
    {
      "cell_type": "code",
      "metadata": {
        "id": "USI7bPPwxivR"
      },
      "source": [
        "os.chdir('/content/drive/My Drive/Datasets/numbers_dataset/testingtemp')\n",
        "\n",
        "dirName = '0'\n",
        "os.makedirs(dirName)"
      ],
      "execution_count": null,
      "outputs": []
    },
    {
      "cell_type": "code",
      "metadata": {
        "id": "bkYOXL2Zybwo"
      },
      "source": [
        "os.listdir('.')"
      ],
      "execution_count": null,
      "outputs": []
    },
    {
      "cell_type": "code",
      "metadata": {
        "id": "YI8YMxBDJxNM"
      },
      "source": [
        "test = df_area['area']\n",
        "array = []\n",
        "directory_save = '/content/drive/My Drive/Datasets/numbers_dataset/testingtemp/0'\n",
        "\n",
        "for i, v in enumerate(test):\n",
        "  if test[i] > 2000:\n",
        "    array.append(i)\n",
        "\n",
        "array.sort()\n",
        "print(array)\n",
        "os.chdir(directory_save)\n",
        "\n",
        "for i, v in enumerate(array):\n",
        "  x, y, w, h = cv.boundingRect(contours[v])\n",
        "  num0 = image[y:y+h, x:x+w]\n",
        "  image_resize = cv.resize(num0, (28, 28), interpolation =cv.INTER_AREA)\n",
        "  cv.imwrite('num0_{}.png'.format(i), image_resize)\n",
        "\n",
        "print(os.listdir(directory_save))"
      ],
      "execution_count": null,
      "outputs": []
    },
    {
      "cell_type": "markdown",
      "metadata": {
        "id": "X3L794MzzACV"
      },
      "source": [
        "## Input Number 1"
      ]
    },
    {
      "cell_type": "code",
      "metadata": {
        "id": "ZS9v6ky4zACb",
        "outputId": "2fda5774-215c-4810-d9cb-eb26631b1a9b",
        "colab": {
          "base_uri": "https://localhost:8080/",
          "height": 514
        }
      },
      "source": [
        "image = cv.imread('/content/drive/My Drive/Datasets/numbers_dataset/number1.jpg')\n",
        "\n",
        "image_orig = image.copy()\n",
        "\n",
        "image_gray = cv.cvtColor(image, cv.COLOR_BGR2GRAY)\n",
        "\n",
        "image_thresh = cv.threshold(image_gray, 140, 255, cv.THRESH_BINARY)[1]\n",
        "\n",
        "thresholding_result = cv.bitwise_not(image_thresh)\n",
        "kernel = cv.getStructuringElement(cv.MORPH_ELLIPSE,(9,9))\n",
        "dilation = cv.dilate(thresholding_result,kernel,iterations = 2)\n",
        "\n",
        "contours, hierarchy = cv.findContours(thresholding_result, cv.RETR_EXTERNAL, cv.CHAIN_APPROX_SIMPLE)\n",
        "\n",
        "data_area = []\n",
        "for index, contour in enumerate(contours):\n",
        "  x, y, w, h = cv.boundingRect(contour)\n",
        "  area = cv.contourArea(contour)\n",
        "  data_area.append([index, area, w, h])\n",
        "\n",
        "df_area = pd.DataFrame(data_area)\n",
        "df_area.columns = ['index', 'area', 'width', 'height']\n",
        "df_sort = df_area.sort_values(by=['area'],ascending=False)\n",
        "df_sort.head(15)"
      ],
      "execution_count": null,
      "outputs": [
        {
          "output_type": "execute_result",
          "data": {
            "text/html": [
              "<div>\n",
              "<style scoped>\n",
              "    .dataframe tbody tr th:only-of-type {\n",
              "        vertical-align: middle;\n",
              "    }\n",
              "\n",
              "    .dataframe tbody tr th {\n",
              "        vertical-align: top;\n",
              "    }\n",
              "\n",
              "    .dataframe thead th {\n",
              "        text-align: right;\n",
              "    }\n",
              "</style>\n",
              "<table border=\"1\" class=\"dataframe\">\n",
              "  <thead>\n",
              "    <tr style=\"text-align: right;\">\n",
              "      <th></th>\n",
              "      <th>index</th>\n",
              "      <th>area</th>\n",
              "      <th>width</th>\n",
              "      <th>height</th>\n",
              "    </tr>\n",
              "  </thead>\n",
              "  <tbody>\n",
              "    <tr>\n",
              "      <th>4</th>\n",
              "      <td>4</td>\n",
              "      <td>7545.5</td>\n",
              "      <td>32</td>\n",
              "      <td>392</td>\n",
              "    </tr>\n",
              "    <tr>\n",
              "      <th>2</th>\n",
              "      <td>2</td>\n",
              "      <td>7010.0</td>\n",
              "      <td>36</td>\n",
              "      <td>321</td>\n",
              "    </tr>\n",
              "    <tr>\n",
              "      <th>11</th>\n",
              "      <td>11</td>\n",
              "      <td>6834.5</td>\n",
              "      <td>42</td>\n",
              "      <td>328</td>\n",
              "    </tr>\n",
              "    <tr>\n",
              "      <th>15</th>\n",
              "      <td>15</td>\n",
              "      <td>6129.0</td>\n",
              "      <td>31</td>\n",
              "      <td>293</td>\n",
              "    </tr>\n",
              "    <tr>\n",
              "      <th>20</th>\n",
              "      <td>20</td>\n",
              "      <td>5754.5</td>\n",
              "      <td>32</td>\n",
              "      <td>344</td>\n",
              "    </tr>\n",
              "    <tr>\n",
              "      <th>12</th>\n",
              "      <td>12</td>\n",
              "      <td>5334.5</td>\n",
              "      <td>38</td>\n",
              "      <td>279</td>\n",
              "    </tr>\n",
              "    <tr>\n",
              "      <th>16</th>\n",
              "      <td>16</td>\n",
              "      <td>5059.0</td>\n",
              "      <td>30</td>\n",
              "      <td>293</td>\n",
              "    </tr>\n",
              "    <tr>\n",
              "      <th>27</th>\n",
              "      <td>27</td>\n",
              "      <td>4239.0</td>\n",
              "      <td>26</td>\n",
              "      <td>323</td>\n",
              "    </tr>\n",
              "    <tr>\n",
              "      <th>21</th>\n",
              "      <td>21</td>\n",
              "      <td>3404.5</td>\n",
              "      <td>22</td>\n",
              "      <td>275</td>\n",
              "    </tr>\n",
              "    <tr>\n",
              "      <th>26</th>\n",
              "      <td>26</td>\n",
              "      <td>3208.0</td>\n",
              "      <td>27</td>\n",
              "      <td>273</td>\n",
              "    </tr>\n",
              "    <tr>\n",
              "      <th>22</th>\n",
              "      <td>22</td>\n",
              "      <td>2.0</td>\n",
              "      <td>3</td>\n",
              "      <td>4</td>\n",
              "    </tr>\n",
              "    <tr>\n",
              "      <th>24</th>\n",
              "      <td>24</td>\n",
              "      <td>1.0</td>\n",
              "      <td>2</td>\n",
              "      <td>2</td>\n",
              "    </tr>\n",
              "    <tr>\n",
              "      <th>13</th>\n",
              "      <td>13</td>\n",
              "      <td>0.5</td>\n",
              "      <td>3</td>\n",
              "      <td>2</td>\n",
              "    </tr>\n",
              "    <tr>\n",
              "      <th>5</th>\n",
              "      <td>5</td>\n",
              "      <td>0.5</td>\n",
              "      <td>2</td>\n",
              "      <td>2</td>\n",
              "    </tr>\n",
              "    <tr>\n",
              "      <th>18</th>\n",
              "      <td>18</td>\n",
              "      <td>0.0</td>\n",
              "      <td>1</td>\n",
              "      <td>1</td>\n",
              "    </tr>\n",
              "  </tbody>\n",
              "</table>\n",
              "</div>"
            ],
            "text/plain": [
              "    index    area  width  height\n",
              "4       4  7545.5     32     392\n",
              "2       2  7010.0     36     321\n",
              "11     11  6834.5     42     328\n",
              "15     15  6129.0     31     293\n",
              "20     20  5754.5     32     344\n",
              "12     12  5334.5     38     279\n",
              "16     16  5059.0     30     293\n",
              "27     27  4239.0     26     323\n",
              "21     21  3404.5     22     275\n",
              "26     26  3208.0     27     273\n",
              "22     22     2.0      3       4\n",
              "24     24     1.0      2       2\n",
              "13     13     0.5      3       2\n",
              "5       5     0.5      2       2\n",
              "18     18     0.0      1       1"
            ]
          },
          "metadata": {
            "tags": []
          },
          "execution_count": 58
        }
      ]
    },
    {
      "cell_type": "code",
      "metadata": {
        "id": "iQFuULzYzACp"
      },
      "source": [
        "os.chdir('/content/drive/My Drive/Datasets/numbers_dataset/testingtemp')\n",
        "\n",
        "dirName = '1'\n",
        "os.makedirs(dirName)"
      ],
      "execution_count": null,
      "outputs": []
    },
    {
      "cell_type": "code",
      "metadata": {
        "id": "XZYibkIrzAC9",
        "outputId": "d499df88-c588-4941-a58e-595e7ba5cc02",
        "colab": {
          "base_uri": "https://localhost:8080/",
          "height": 51
        }
      },
      "source": [
        "test = df_area['area']\n",
        "array = []\n",
        "directory_save = '/content/drive/My Drive/Datasets/numbers_dataset/testingtemp/1'\n",
        "\n",
        "for i, v in enumerate(test):\n",
        "  if test[i] > 2000:\n",
        "    array.append(i)\n",
        "\n",
        "array.sort()\n",
        "print(array)\n",
        "os.chdir(directory_save)\n",
        "\n",
        "for i, v in enumerate(array):\n",
        "  x, y, w, h = cv.boundingRect(contours[v])\n",
        "  num1 = image[y:y+h, x:x+w]\n",
        "  image_resize = cv.resize(num1, (28, 28), interpolation =cv.INTER_AREA)\n",
        "  cv.imwrite('num1_{}.png'.format(i), image_resize)\n",
        "\n",
        "print(os.listdir(directory_save))"
      ],
      "execution_count": null,
      "outputs": [
        {
          "output_type": "stream",
          "text": [
            "[2, 4, 11, 12, 15, 16, 20, 21, 26, 27]\n",
            "['num1_0.png', 'num1_1.png', 'num1_2.png', 'num1_3.png', 'num1_4.png', 'num1_5.png', 'num1_6.png', 'num1_7.png', 'num1_8.png', 'num1_9.png']\n"
          ],
          "name": "stdout"
        }
      ]
    },
    {
      "cell_type": "markdown",
      "metadata": {
        "id": "YphToDITz48F"
      },
      "source": [
        "## Input Number 2"
      ]
    },
    {
      "cell_type": "code",
      "metadata": {
        "id": "7_gOj5hoz48L",
        "outputId": "9911cb3c-d0b8-47dd-b090-f2e422546c59",
        "colab": {
          "base_uri": "https://localhost:8080/",
          "height": 514
        }
      },
      "source": [
        "image = cv.imread('/content/drive/My Drive/Datasets/numbers_dataset/number2.jpg')\n",
        "\n",
        "image_orig = image.copy()\n",
        "\n",
        "image_gray = cv.cvtColor(image, cv.COLOR_BGR2GRAY)\n",
        "\n",
        "image_thresh = cv.threshold(image_gray, 140, 255, cv.THRESH_BINARY)[1]\n",
        "\n",
        "thresholding_result = cv.bitwise_not(image_thresh)\n",
        "kernel = cv.getStructuringElement(cv.MORPH_ELLIPSE,(9,9))\n",
        "dilation = cv.dilate(thresholding_result,kernel,iterations = 2)\n",
        "\n",
        "contours, hierarchy = cv.findContours(thresholding_result, cv.RETR_EXTERNAL, cv.CHAIN_APPROX_SIMPLE)\n",
        "\n",
        "data_area = []\n",
        "for index, contour in enumerate(contours):\n",
        "  x, y, w, h = cv.boundingRect(contour)\n",
        "  area = cv.contourArea(contour)\n",
        "  data_area.append([index, area, w, h])\n",
        "\n",
        "df_area = pd.DataFrame(data_area)\n",
        "df_area.columns = ['index', 'area', 'width', 'height']\n",
        "df_sort = df_area.sort_values(by=['area'],ascending=False)\n",
        "df_sort.head(15)"
      ],
      "execution_count": null,
      "outputs": [
        {
          "output_type": "execute_result",
          "data": {
            "text/html": [
              "<div>\n",
              "<style scoped>\n",
              "    .dataframe tbody tr th:only-of-type {\n",
              "        vertical-align: middle;\n",
              "    }\n",
              "\n",
              "    .dataframe tbody tr th {\n",
              "        vertical-align: top;\n",
              "    }\n",
              "\n",
              "    .dataframe thead th {\n",
              "        text-align: right;\n",
              "    }\n",
              "</style>\n",
              "<table border=\"1\" class=\"dataframe\">\n",
              "  <thead>\n",
              "    <tr style=\"text-align: right;\">\n",
              "      <th></th>\n",
              "      <th>index</th>\n",
              "      <th>area</th>\n",
              "      <th>width</th>\n",
              "      <th>height</th>\n",
              "    </tr>\n",
              "  </thead>\n",
              "  <tbody>\n",
              "    <tr>\n",
              "      <th>51</th>\n",
              "      <td>51</td>\n",
              "      <td>18355.0</td>\n",
              "      <td>283</td>\n",
              "      <td>331</td>\n",
              "    </tr>\n",
              "    <tr>\n",
              "      <th>94</th>\n",
              "      <td>94</td>\n",
              "      <td>17785.0</td>\n",
              "      <td>284</td>\n",
              "      <td>337</td>\n",
              "    </tr>\n",
              "    <tr>\n",
              "      <th>69</th>\n",
              "      <td>69</td>\n",
              "      <td>15592.5</td>\n",
              "      <td>291</td>\n",
              "      <td>280</td>\n",
              "    </tr>\n",
              "    <tr>\n",
              "      <th>52</th>\n",
              "      <td>52</td>\n",
              "      <td>15343.0</td>\n",
              "      <td>272</td>\n",
              "      <td>296</td>\n",
              "    </tr>\n",
              "    <tr>\n",
              "      <th>111</th>\n",
              "      <td>111</td>\n",
              "      <td>14094.0</td>\n",
              "      <td>248</td>\n",
              "      <td>331</td>\n",
              "    </tr>\n",
              "    <tr>\n",
              "      <th>90</th>\n",
              "      <td>90</td>\n",
              "      <td>13344.0</td>\n",
              "      <td>252</td>\n",
              "      <td>314</td>\n",
              "    </tr>\n",
              "    <tr>\n",
              "      <th>70</th>\n",
              "      <td>70</td>\n",
              "      <td>13311.5</td>\n",
              "      <td>258</td>\n",
              "      <td>323</td>\n",
              "    </tr>\n",
              "    <tr>\n",
              "      <th>107</th>\n",
              "      <td>107</td>\n",
              "      <td>11739.0</td>\n",
              "      <td>229</td>\n",
              "      <td>295</td>\n",
              "    </tr>\n",
              "    <tr>\n",
              "      <th>121</th>\n",
              "      <td>121</td>\n",
              "      <td>11380.5</td>\n",
              "      <td>250</td>\n",
              "      <td>291</td>\n",
              "    </tr>\n",
              "    <tr>\n",
              "      <th>117</th>\n",
              "      <td>117</td>\n",
              "      <td>8539.0</td>\n",
              "      <td>191</td>\n",
              "      <td>269</td>\n",
              "    </tr>\n",
              "    <tr>\n",
              "      <th>40</th>\n",
              "      <td>40</td>\n",
              "      <td>1.5</td>\n",
              "      <td>2</td>\n",
              "      <td>3</td>\n",
              "    </tr>\n",
              "    <tr>\n",
              "      <th>115</th>\n",
              "      <td>115</td>\n",
              "      <td>1.0</td>\n",
              "      <td>2</td>\n",
              "      <td>3</td>\n",
              "    </tr>\n",
              "    <tr>\n",
              "      <th>53</th>\n",
              "      <td>53</td>\n",
              "      <td>1.0</td>\n",
              "      <td>2</td>\n",
              "      <td>2</td>\n",
              "    </tr>\n",
              "    <tr>\n",
              "      <th>17</th>\n",
              "      <td>17</td>\n",
              "      <td>0.5</td>\n",
              "      <td>2</td>\n",
              "      <td>2</td>\n",
              "    </tr>\n",
              "    <tr>\n",
              "      <th>78</th>\n",
              "      <td>78</td>\n",
              "      <td>0.5</td>\n",
              "      <td>2</td>\n",
              "      <td>2</td>\n",
              "    </tr>\n",
              "  </tbody>\n",
              "</table>\n",
              "</div>"
            ],
            "text/plain": [
              "     index     area  width  height\n",
              "51      51  18355.0    283     331\n",
              "94      94  17785.0    284     337\n",
              "69      69  15592.5    291     280\n",
              "52      52  15343.0    272     296\n",
              "111    111  14094.0    248     331\n",
              "90      90  13344.0    252     314\n",
              "70      70  13311.5    258     323\n",
              "107    107  11739.0    229     295\n",
              "121    121  11380.5    250     291\n",
              "117    117   8539.0    191     269\n",
              "40      40      1.5      2       3\n",
              "115    115      1.0      2       3\n",
              "53      53      1.0      2       2\n",
              "17      17      0.5      2       2\n",
              "78      78      0.5      2       2"
            ]
          },
          "metadata": {
            "tags": []
          },
          "execution_count": 66
        }
      ]
    },
    {
      "cell_type": "code",
      "metadata": {
        "id": "eCKSrn6kz48X"
      },
      "source": [
        "os.chdir('/content/drive/My Drive/Datasets/numbers_dataset/testingtemp')\n",
        "\n",
        "dirName = '2'\n",
        "os.makedirs(dirName)"
      ],
      "execution_count": null,
      "outputs": []
    },
    {
      "cell_type": "code",
      "metadata": {
        "id": "VjskRvzZz48e",
        "outputId": "7bfcad65-eeba-4305-be31-33f9af687b1b",
        "colab": {
          "base_uri": "https://localhost:8080/",
          "height": 51
        }
      },
      "source": [
        "test = df_area['area']\n",
        "array = []\n",
        "directory_save = '/content/drive/My Drive/Datasets/numbers_dataset/testingtemp/2'\n",
        "\n",
        "for i, v in enumerate(test):\n",
        "  if test[i] > 2000:\n",
        "    array.append(i)\n",
        "\n",
        "array.sort()\n",
        "print(array)\n",
        "os.chdir(directory_save)\n",
        "\n",
        "for i, v in enumerate(array):\n",
        "  x, y, w, h = cv.boundingRect(contours[v])\n",
        "  num2 = image[y:y+h, x:x+w]\n",
        "  image_resize = cv.resize(num2, (28, 28), interpolation =cv.INTER_AREA)\n",
        "  cv.imwrite('num2_{}.png'.format(i), image_resize)\n",
        "\n",
        "print(os.listdir(directory_save))"
      ],
      "execution_count": null,
      "outputs": [
        {
          "output_type": "stream",
          "text": [
            "[51, 52, 69, 70, 90, 94, 107, 111, 117, 121]\n",
            "['num2_0.png', 'num2_1.png', 'num2_2.png', 'num2_3.png', 'num2_4.png', 'num2_5.png', 'num2_6.png', 'num2_7.png', 'num2_8.png', 'num2_9.png']\n"
          ],
          "name": "stdout"
        }
      ]
    },
    {
      "cell_type": "markdown",
      "metadata": {
        "id": "tw_EIu6hO3Xa"
      },
      "source": [
        "# Feature extractor HOG dengan image size 128"
      ]
    },
    {
      "cell_type": "code",
      "metadata": {
        "id": "JpeBrGsAO3Nh"
      },
      "source": [
        "dataset_dir = '/content/drive/My Drive/Datasets/numbers_dataset'\n",
        "\n",
        "trainingPath = os.path.join(dataset_dir, \"training\")\n",
        "testingPath = os.path.join(dataset_dir, \"testingtemp\")"
      ],
      "execution_count": null,
      "outputs": []
    },
    {
      "cell_type": "code",
      "metadata": {
        "id": "TlsQYlJAPA7M"
      },
      "source": [
        "resize_image_size = 128\n",
        "extraction_method = 'hog'"
      ],
      "execution_count": null,
      "outputs": []
    },
    {
      "cell_type": "code",
      "metadata": {
        "id": "Cb1smjRyPEMX",
        "outputId": "36b61bf4-2c98-4c21-a29f-0a8d6b9b46f5",
        "colab": {
          "base_uri": "https://localhost:8080/",
          "height": 34
        }
      },
      "source": [
        "# Split Dataset\n",
        "\n",
        "(feature_train, label_train) = load_split(trainingPath, image_size=resize_image_size, extraction_method=extraction_method)\n",
        "(feature_test, label_test) = load_split(testingPath, image_size=resize_image_size, extraction_method=extraction_method)\n",
        "\n",
        "print(\"Data loaded!\")\n",
        "\n",
        "from sklearn.preprocessing import LabelEncoder\n",
        "\n",
        "le = LabelEncoder()\n",
        "label_train = le.fit_transform(label_train)\n",
        "label_test = le.transform(label_test)"
      ],
      "execution_count": null,
      "outputs": [
        {
          "output_type": "stream",
          "text": [
            "Data loaded!\n"
          ],
          "name": "stdout"
        }
      ]
    },
    {
      "cell_type": "code",
      "metadata": {
        "id": "ujhmyAcSPtbI",
        "outputId": "d8ea92d9-8fa7-49f9-85d6-d5aa5e6c09d9",
        "colab": {
          "base_uri": "https://localhost:8080/",
          "height": 272
        }
      },
      "source": [
        "classifier_linearsvc(feature_train, feature_test, label_train, label_test)"
      ],
      "execution_count": null,
      "outputs": [
        {
          "output_type": "stream",
          "text": [
            "Linear SVC Classifier\n",
            "              precision    recall  f1-score   support\n",
            "\n",
            "           0       0.57      0.40      0.47        10\n",
            "           1       0.71      0.50      0.59        10\n",
            "           2       0.62      1.00      0.77        10\n",
            "\n",
            "    accuracy                           0.63        30\n",
            "   macro avg       0.64      0.63      0.61        30\n",
            "weighted avg       0.64      0.63      0.61        30\n",
            "\n",
            "Accuracy of LinearSVC Classifier on test set: 0.63\n",
            "F1 0.6093514328808446\n",
            "Precision 0.6369047619047619\n",
            "Recall 0.6333333333333333\n"
          ],
          "name": "stdout"
        }
      ]
    },
    {
      "cell_type": "code",
      "metadata": {
        "id": "AKm6M6MCPxpQ",
        "outputId": "727c48f3-5d9c-4812-8734-f678eb20bf37",
        "colab": {
          "base_uri": "https://localhost:8080/",
          "height": 272
        }
      },
      "source": [
        "classifier_logreg(feature_train, feature_test, label_train, label_test)"
      ],
      "execution_count": null,
      "outputs": [
        {
          "output_type": "stream",
          "text": [
            "Logistic Regression Classifier\n",
            "              precision    recall  f1-score   support\n",
            "\n",
            "           0       0.57      0.40      0.47        10\n",
            "           1       0.75      0.60      0.67        10\n",
            "           2       0.67      1.00      0.80        10\n",
            "\n",
            "    accuracy                           0.67        30\n",
            "   macro avg       0.66      0.67      0.65        30\n",
            "weighted avg       0.66      0.67      0.65        30\n",
            "\n",
            "Accuracy of Logistic Regression Classifier on test set: 0.67\n",
            "F1 0.6457516339869281\n",
            "Precision 0.6626984126984127\n",
            "Recall 0.6666666666666666\n"
          ],
          "name": "stdout"
        }
      ]
    },
    {
      "cell_type": "code",
      "metadata": {
        "id": "GmB_xxvxPG7x",
        "outputId": "a3294e05-60a0-4c13-d401-d307d50566d1",
        "colab": {
          "base_uri": "https://localhost:8080/",
          "height": 272
        }
      },
      "source": [
        "classifier_knn(feature_train, feature_test, label_train, label_test, 3)"
      ],
      "execution_count": null,
      "outputs": [
        {
          "output_type": "stream",
          "text": [
            "KNneighbors Classifier n_neighbors: 3\n",
            "              precision    recall  f1-score   support\n",
            "\n",
            "           0       0.50      0.30      0.37        10\n",
            "           1       0.42      0.80      0.55        10\n",
            "           2       1.00      0.50      0.67        10\n",
            "\n",
            "    accuracy                           0.53        30\n",
            "   macro avg       0.64      0.53      0.53        30\n",
            "weighted avg       0.64      0.53      0.53        30\n",
            "\n",
            "Accuracy of KNN on test set: 0.53\n",
            "F1 0.5311302681992337\n",
            "Precision 0.6403508771929824\n",
            "Recall 0.5333333333333333\n"
          ],
          "name": "stdout"
        }
      ]
    },
    {
      "cell_type": "code",
      "metadata": {
        "id": "9X85zExSP1Aw",
        "outputId": "997136b8-b2a1-4925-8743-0e0832e03b9a",
        "colab": {
          "base_uri": "https://localhost:8080/",
          "height": 374
        }
      },
      "source": [
        "classifier_randomforest(feature_train, feature_test, label_train, label_test, 100)"
      ],
      "execution_count": null,
      "outputs": [
        {
          "output_type": "stream",
          "text": [
            "Random Forest Classifier n_estimators: 100\n",
            "              precision    recall  f1-score   support\n",
            "\n",
            "           0       0.40      0.20      0.27        10\n",
            "           1       0.50      0.10      0.17        10\n",
            "           2       0.39      0.90      0.55        10\n",
            "\n",
            "    accuracy                           0.40        30\n",
            "   macro avg       0.43      0.40      0.33        30\n",
            "weighted avg       0.43      0.40      0.33        30\n",
            "\n",
            "Predicted  0  1   2  All\n",
            "True                    \n",
            "0          2  0   8   10\n",
            "1          3  1   6   10\n",
            "2          0  1   9   10\n",
            "All        5  2  23   30\n",
            "Accuracy of Random Forest on test set: 0.40\n",
            "F1 0.32626262626262625\n",
            "Precision 0.43043478260869567\n",
            "Recall 0.4000000000000001\n"
          ],
          "name": "stdout"
        }
      ]
    },
    {
      "cell_type": "code",
      "metadata": {
        "id": "KV_O7d0TP5U3",
        "outputId": "4ee29ef1-1b5a-4668-afe0-22e9dd8d7bd5",
        "colab": {
          "base_uri": "https://localhost:8080/",
          "height": 272
        }
      },
      "source": [
        "classifier_dtree(feature_train, feature_test, label_train, label_test)"
      ],
      "execution_count": null,
      "outputs": [
        {
          "output_type": "stream",
          "text": [
            "Decision Tree Classifier\n",
            "              precision    recall  f1-score   support\n",
            "\n",
            "           0       0.60      0.30      0.40        10\n",
            "           1       0.25      0.10      0.14        10\n",
            "           2       0.33      0.70      0.45        10\n",
            "\n",
            "    accuracy                           0.37        30\n",
            "   macro avg       0.39      0.37      0.33        30\n",
            "weighted avg       0.39      0.37      0.33        30\n",
            "\n",
            "Accuracy of Decision Tree Classifier on test set: 0.37\n",
            "F1 0.33149001536098316\n",
            "Precision 0.39444444444444443\n",
            "Recall 0.3666666666666667\n"
          ],
          "name": "stdout"
        }
      ]
    },
    {
      "cell_type": "code",
      "metadata": {
        "id": "7bxOJ-qLP7uw",
        "outputId": "491ebe02-864e-4126-88de-d4da3b16c63a",
        "colab": {
          "base_uri": "https://localhost:8080/",
          "height": 272
        }
      },
      "source": [
        "classifier_mlp(feature_train, feature_test, label_train, label_test)"
      ],
      "execution_count": null,
      "outputs": [
        {
          "output_type": "stream",
          "text": [
            "Neural Network MLP Classifier\n",
            "              precision    recall  f1-score   support\n",
            "\n",
            "           0       0.50      0.40      0.44        10\n",
            "           1       0.67      0.40      0.50        10\n",
            "           2       0.62      1.00      0.77        10\n",
            "\n",
            "    accuracy                           0.60        30\n",
            "   macro avg       0.60      0.60      0.57        30\n",
            "weighted avg       0.60      0.60      0.57        30\n",
            "\n",
            "Accuracy of Neural Network MLP Classifier on test set: 0.60\n",
            "F1 0.5712250712250713\n",
            "Precision 0.5972222222222222\n",
            "Recall 0.6\n"
          ],
          "name": "stdout"
        }
      ]
    },
    {
      "cell_type": "code",
      "metadata": {
        "id": "DVWsi_zy0gmt"
      },
      "source": [
        "testing_paths = list(paths.list_images(testingPath))\n",
        "images = []\n",
        "\n",
        "model = LogisticRegression()\n",
        "model.fit(feature_train, label_train)\n",
        "\n",
        "for testing_path in testing_paths[:25]:\n",
        "\timage = cv.imread(testing_path)\n",
        "\toutput = image.copy()\n",
        "\toutput = cv.resize(output, (128, 128))\n",
        "\n",
        "\timage = preprocess(image, image_size=resize_image_size)\n",
        "\n",
        "\tif extraction_method == 'hog':\n",
        "\t\tfeatures = quantify_image_hog(image)\n",
        "\telif extraction_method == 'lbp':\n",
        "\t\tfeatures = quantify_image_lbp(image)\n",
        "   \n",
        "\tpreds = model.predict([features])\n",
        "\tlabel = le.inverse_transform(preds)[0]\n",
        "\n",
        "\tcolor == (255, 0, 0)\n",
        "\tcv.putText(output, label, (3, 20), cv.FONT_HERSHEY_SIMPLEX, 0.5, color, 2)\n",
        "\timages.append(output)"
      ],
      "execution_count": null,
      "outputs": []
    },
    {
      "cell_type": "code",
      "metadata": {
        "id": "jy-bn16A0iW8",
        "outputId": "cf5b2f2b-5587-4400-f02f-9bff6738cb9a",
        "colab": {
          "base_uri": "https://localhost:8080/",
          "height": 646
        }
      },
      "source": [
        "from imutils import build_montages\n",
        "\n",
        "montage = build_montages(images, (128,128), (5, 5))[0]\n",
        "\n",
        "cv2_imshow(montage)"
      ],
      "execution_count": null,
      "outputs": [
        {
          "output_type": "display_data",
          "data": {
            "image/png": "[encoded data removed]",
            "text/plain": [
              "<PIL.Image.Image image mode=RGB size=640x640 at 0x7F4ECDDE01D0>"
            ]
          },
          "metadata": {
            "tags": []
          }
        }
      ]
    },
    {
      "cell_type": "markdown",
      "metadata": {
        "id": "3xLHctH9-V59"
      },
      "source": [
        "Pada percobaan feature extractor HOG dengan image size 128, terdapat perubahan yang cukup berpengaruh. Data yang semula memiliki rata-rata nilai testing >=90% kini turun menjadi >= 70%.\n",
        "\n",
        "Dapat diambil kesimpulan, bahwa data testing yang dimasukan berpengaruh pada tingkat hasil akurasi yang didapatkan. Bila dilihat dari gambar pada testing path, data testing yang dimasukan cukup buruk sebagai data.\n",
        "\n",
        "Jadi, tergantung pada data yang ditambahkan/digunakan seperti apa, apakah data tersebut baik, dimana gambar dapat dibedakan background dan modelnya, apakah intensitas warnanya cukup jelas serta apakah gambar memiliki noise atau tidak."
      ]
    }
  ]
}